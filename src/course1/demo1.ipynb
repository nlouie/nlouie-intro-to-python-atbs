{
 "cells": [
  {
   "cell_type": "markdown",
   "metadata": {
    "pycharm": {
     "name": "#%% md\n"
    }
   },
   "source": [
    "# Python Programming for Beginners Demo 1 - Flow Control\n",
    "\n",
    "\n",
    "## Intro\n",
    "\n",
    "(Source)[https://automatetheboringstuff.com/2e/chapter2/]\n",
    "\n",
    "So, you know the basics of individual instructions and that a program is just a series of instructions. But programming’s real strength isn’t just running one instruction after another like a weekend errand list. \n",
    "\n",
    "Based on how expressions evaluate, a program can decide to skip instructions, repeat them, or choose one of several instructions to run. In fact, you almost never want your programs to start from the first line of code and simply execute every line, straight to the end. \n",
    "\n",
    "*Flow control statements* can decide which Python instructions to execute under which conditions.\n",
    "\n",
    "\n",
    "These flow control statements directly correspond to the symbols in a flowchart, so I’ll provide flowchart versions of the code discussed in this chapter. Figure 2-1 shows a flowchart for what to do if it’s raining. Follow the path made by the arrows from Start to End.\n"
   ]
  },
  {
   "cell_type": "markdown",
   "metadata": {},
   "source": [
    "### Figure 2-1: A flowchart to tell you what to do if it is raining\n",
    "\n",
    "<img src=https://automatetheboringstuff.com/2e/images/000039.jpg />"
   ]
  },
  {
   "cell_type": "markdown",
   "metadata": {},
   "source": [
    "- In a flowchart, there is usually more than one way to go from the start to the end. \n",
    "- The same is true for lines of code in a computer program. Flowcharts represent these branching points with diamonds, while the other steps are represented with rectangles. \n",
    "- The starting and ending steps are represented with rounded rectangles.\n",
    "\n",
    "Before you learn about flow control statements, you first need to learn how to represent those yes and no options, and you need to understand how to write those branching points as Python code. \n"
   ]
  },
  {
   "cell_type": "markdown",
   "metadata": {},
   "source": [
    "## Boolean Values\n",
    "\n",
    "While the integer, floating-point, and string data types have an unlimited number of possible values, the *Boolean* data type has only two values: `True` and `False`. \n",
    "\n",
    "(Boolean is capitalized because the data type is named after mathematician George Boole.)\n",
    "\n",
    "When entered as Python code, the Boolean values `True` and `False` lack the quotes you place around strings, and they always start with a capital *T* or *F*, with the rest of the word in lowercase. Enter the following into the interactive shell. (Some of these instructions are intentionally incorrect, and they’ll cause error messages to appear\n",
    "\n",
    "--------------\n"
   ]
  },
  {
   "cell_type": "code",
   "execution_count": 1,
   "metadata": {},
   "outputs": [
    {
     "data": {
      "text/plain": "True"
     },
     "execution_count": 1,
     "metadata": {},
     "output_type": "execute_result"
    }
   ],
   "source": [
    "spam = True # 1\n",
    "spam"
   ]
  },
  {
   "cell_type": "code",
   "execution_count": 2,
   "metadata": {},
   "outputs": [
    {
     "ename": "NameError",
     "evalue": "name 'true' is not defined",
     "output_type": "error",
     "traceback": [
      "\u001B[0;31m---------------------------------------------------------------------------\u001B[0m",
      "\u001B[0;31mNameError\u001B[0m                                 Traceback (most recent call last)",
      "\u001B[0;32m<ipython-input-2-fe37994243fd>\u001B[0m in \u001B[0;36m<module>\u001B[0;34m\u001B[0m\n\u001B[0;32m----> 1\u001B[0;31m \u001B[0mtrue\u001B[0m \u001B[0;31m#2\u001B[0m\u001B[0;34m\u001B[0m\u001B[0;34m\u001B[0m\u001B[0m\n\u001B[0m\u001B[1;32m      2\u001B[0m \u001B[0;34m\u001B[0m\u001B[0m\n",
      "\u001B[0;31mNameError\u001B[0m: name 'true' is not defined"
     ]
    }
   ],
   "source": [
    "true #2"
   ]
  },
  {
   "cell_type": "code",
   "execution_count": null,
   "metadata": {},
   "outputs": [],
   "source": [
    "True = 2 +  #3"
   ]
  },
  {
   "cell_type": "markdown",
   "metadata": {},
   "source": [
    "--------------\n",
    "\n",
    "\n",
    "Like any other value, Boolean values are used in expressions and can be stored in variables\n",
    "\n",
    "- If you don’t use the proper case \n",
    "- or you try to use True and False for variable names\n",
    "- Python will give you an error message."
   ]
  },
  {
   "cell_type": "markdown",
   "metadata": {},
   "source": [
    "## Comparison Operators\n",
    "\n",
    "*Comparison operators*, also called *relational operators*, compare two values and evaluate down to a single Boolean value. "
   ]
  },
  {
   "cell_type": "markdown",
   "metadata": {},
   "source": [
    "### Table 2-1: Comparison Operators\n",
    "\n",
    "| Operator | Meaning |\n",
    "|--------| -------| \n",
    "| == |  Equal to| \n",
    "| != |   Not equal to |\n",
    "| < |Less than |\n",
    "| > | Greater than |\n",
    "| <= | Less than or equal to |\n",
    "| >= | Greater than or equal to |\n",
    "\n",
    "\n",
    "These operators evaluate to `True` or `False` depending on the values you give them. Let’s try some operators now, starting with `==` and `!=`.\n",
    "\n",
    "------------"
   ]
  },
  {
   "cell_type": "code",
   "execution_count": null,
   "metadata": {},
   "outputs": [],
   "source": [
    "42 == 42"
   ]
  },
  {
   "cell_type": "code",
   "execution_count": null,
   "metadata": {},
   "outputs": [],
   "source": [
    "42 == 99"
   ]
  },
  {
   "cell_type": "code",
   "execution_count": null,
   "metadata": {},
   "outputs": [],
   "source": [
    "2 != 3"
   ]
  },
  {
   "cell_type": "code",
   "execution_count": null,
   "metadata": {},
   "outputs": [],
   "source": [
    "2 != 2"
   ]
  },
  {
   "cell_type": "markdown",
   "metadata": {},
   "source": [
    "--------------\n",
    "\n",
    "As you might expect, `==` (equal to) evaluates to `True` when the values on both sides are the same, and `!=` (not equal to) evaluates to `True` when the two values are different. The `==` and `!=` operators can actually work with values of any data type.\n",
    "\n",
    "--------------"
   ]
  },
  {
   "cell_type": "code",
   "execution_count": null,
   "metadata": {},
   "outputs": [],
   "source": [
    "'hello' == 'hello'"
   ]
  },
  {
   "cell_type": "code",
   "execution_count": null,
   "metadata": {},
   "outputs": [],
   "source": [
    "'hello' == 'Hello'"
   ]
  },
  {
   "cell_type": "code",
   "execution_count": null,
   "metadata": {},
   "outputs": [],
   "source": [
    "'dog' != 'cat'"
   ]
  },
  {
   "cell_type": "code",
   "execution_count": null,
   "metadata": {},
   "outputs": [],
   "source": [
    "True == True"
   ]
  },
  {
   "cell_type": "code",
   "execution_count": null,
   "metadata": {},
   "outputs": [],
   "source": [
    "True != False"
   ]
  },
  {
   "cell_type": "code",
   "execution_count": null,
   "metadata": {},
   "outputs": [],
   "source": [
    "42 == 42.0"
   ]
  },
  {
   "cell_type": "code",
   "execution_count": null,
   "metadata": {},
   "outputs": [],
   "source": [
    "42 == '42' #1"
   ]
  },
  {
   "cell_type": "markdown",
   "metadata": {},
   "source": [
    "- Note that an integer or floating-point value will always be unequal to a string value. The expression `42 == '42'` evaluates to `False` because Python considers the integer `42` to be different from the string `'42'`.\n",
    "- The `<`, `>`, `<=`, and `>=` operators, on the other hand, work properly only with integer and floating-point values."
   ]
  },
  {
   "cell_type": "markdown",
   "metadata": {},
   "source": [
    "--------------\n",
    "\n",
    "### THE DIFFERENCE BETWEEN THE == AND = OPERATORS\n",
    "\n",
    "You might have noticed that the == operator (equal to) has two equal signs, while the = operator (assignment) has just one equal sign. It’s easy to confuse these two operators with each other. Just remember these points:\n",
    "\n",
    "- The `==` operator (equal to) asks whether two values are the same as each other.\n",
    "- The `=` operator (assignment) puts the value on the right into the variable on the left.\n",
    "- To help remember which is which, notice that the `==` operator (equal to) consists of two characters, just like the `!= `operator (not equal to) consists of two characters.\n",
    "\n",
    "You’ll often use comparison operators to compare a variable’s value to some other value, like in the `eggCount <= 42`and `myAge >= 10` examples. (After all, instead of entering `'dog' != 'cat'` in your code, you could have just entered `True`.) You’ll see more examples of this later when you learn about flow control statements.\n",
    "\n",
    "--------------\n"
   ]
  },
  {
   "cell_type": "markdown",
   "metadata": {},
   "source": [
    "\n",
    "## Boolean Operators\n",
    "\n",
    "The three Boolean operators (`and`, `or`, and `not`) are used to compare Boolean values. Like comparison operators, they evaluate these expressions down to a Boolean value. Let’s explore these operators in detail, starting with the and operator.\n",
    "\n",
    "## Binary Boolean Operators\n",
    "\n",
    "The and and or operators always take two Boolean values (or expressions), so they’re considered *binary* operators. The and operator evaluates an expression to `True` if *both* Boolean values are `True`; otherwise, it evaluates to `False`. Enter some expressions using and into the interactive shell to see it in action.\n",
    "\n",
    "--------------\n"
   ]
  },
  {
   "cell_type": "code",
   "execution_count": null,
   "metadata": {},
   "outputs": [],
   "source": [
    "True and True"
   ]
  },
  {
   "cell_type": "code",
   "execution_count": null,
   "metadata": {},
   "outputs": [],
   "source": [
    "True and False"
   ]
  },
  {
   "cell_type": "markdown",
   "metadata": {},
   "source": [
    "A *truth table* shows every possible result of a Boolean operator.\n",
    "\n",
    "\n",
    "### Table 2-2: The `and` Operator’s Truth Table\n",
    "\n",
    "| Expression |Evaluates to . . . |\n",
    "| -------------|------------------|\n",
    "| True and True | True | \n",
    "| True and False | False |\n",
    "| False and True | False |\n",
    "| False and False | False |\n",
    "\n",
    "On the other hand, the or operator evaluates an expression to `True` if *either* of the two Boolean values is `True`. If both are `False`, it evaluates to `False`.\n",
    "\n",
    "----------"
   ]
  },
  {
   "cell_type": "code",
   "execution_count": null,
   "metadata": {},
   "outputs": [],
   "source": [
    "False or True"
   ]
  },
  {
   "cell_type": "code",
   "execution_count": null,
   "metadata": {},
   "outputs": [],
   "source": [
    "False or False"
   ]
  },
  {
   "cell_type": "markdown",
   "metadata": {},
   "source": [
    "----------\n",
    "\n",
    "\n",
    "\n",
    "You can see every possible outcome of the or operator in its truth table, shown in Table below\n",
    "\n",
    "### Table 2-3: The `or` Operator’s Truth Table\n",
    "\n",
    "| Expression | Evaluates to . . . | \n",
    "|-----|--|\n",
    "| True or True | True |\n",
    "| True or False | True |\n",
    "| False or True | True |\n",
    "| False or False | False |\n"
   ]
  },
  {
   "cell_type": "markdown",
   "metadata": {},
   "source": [
    "## The `not` Operator\n",
    "\n",
    "Unlike `and` and `or`, the not operator operates on only one Boolean value (or expression). This makes it a *unary* operator. The `not` operator simply evaluates to the opposite Boolean value.\n",
    "\n",
    "-------------"
   ]
  },
  {
   "cell_type": "code",
   "execution_count": null,
   "metadata": {},
   "outputs": [],
   "source": [
    "not True"
   ]
  },
  {
   "cell_type": "code",
   "execution_count": null,
   "metadata": {},
   "outputs": [],
   "source": [
    "not not not not True"
   ]
  },
  {
   "cell_type": "markdown",
   "metadata": {},
   "source": [
    "-------------\n",
    "\n",
    "Much like using double negatives in speech and writing, you can nest not operators, though there’s never not no reason to do this in real programs.\n",
    "\n",
    "\n",
    "### Table 2-4: The `not` Operator’s Truth Table\n",
    "\n",
    "| Expression | Evaluates to . . . |\n",
    "|--|--|\n",
    "| not True |  False |\n",
    "| not False | True |"
   ]
  },
  {
   "cell_type": "markdown",
   "metadata": {},
   "source": [
    "## Mixing Boolean and Comparison Operators\n",
    "\n",
    "Since the comparison operators evaluate to Boolean values, you can use them in expressions with the Boolean operators.\n",
    "\n",
    "Recall that the `and`, `or`, and `not` operators are called Boolean operators because they always operate on the Boolean values `True` and `False`. While expressions like `4 < 5` aren’t Boolean values, they are expressions that evaluate down to Boolean values. Try entering some Boolean expressions that use comparison operators into the interactive shell.\n",
    "\n",
    "------------"
   ]
  },
  {
   "cell_type": "code",
   "execution_count": null,
   "metadata": {},
   "outputs": [],
   "source": [
    "(4 < 5) and (5 < 6)"
   ]
  },
  {
   "cell_type": "code",
   "execution_count": null,
   "metadata": {},
   "outputs": [],
   "source": [
    "(4 < 5) and (9 < 6)"
   ]
  },
  {
   "cell_type": "code",
   "execution_count": null,
   "metadata": {},
   "outputs": [],
   "source": [
    "(1 == 2) or (2 == 2)"
   ]
  },
  {
   "cell_type": "markdown",
   "metadata": {},
   "source": [
    "------------\n",
    "\n",
    "The computer will evaluate the left expression first, and then it will evaluate the right expression. When it knows the Boolean value for each, it will then evaluate the whole expression down to one Boolean value. You can think of the computer’s evaluation process for `(4 < 5) and (5 < 6)` as the following:\n",
    "\n",
    "<img src=\"https://automatetheboringstuff.com/2e/images/000095.jpg\"/>\n",
    "\n",
    "You can also use multiple Boolean operators in an expression, along with the comparison operators:\n",
    "\n",
    "------------"
   ]
  },
  {
   "cell_type": "code",
   "execution_count": null,
   "metadata": {},
   "outputs": [],
   "source": [
    "2 + 2 == 4 and not 2 + 2 == 5 and 2 * 2 == 2 + 2"
   ]
  },
  {
   "cell_type": "markdown",
   "metadata": {},
   "source": [
    "------------\n",
    "\n",
    "The Boolean operators have an order of operations just like the math operators do. After any math and comparison operators evaluate, Python evaluates the not operators first, then the `and` operators, and then the `or` operators.\n",
    "\n",
    "## Elements of Flow Control\n",
    "\n",
    "Flow control statements often start with a part called the *condition* and are always followed by a block of code called the *clause*. Before you learn about Python’s specific flow control statements, I’ll cover what a *condition* and a block *are*.\n"
   ]
  },
  {
   "cell_type": "markdown",
   "metadata": {},
   "source": [
    "## Conditions\n",
    "\n",
    "The Boolean expressions you’ve seen so far could all be considered conditions, which are the same thing as expressions; *condition* is just a more specific name in the context of flow control statements. Conditions always evaluate down to a Boolean value, `True` or `False`. A flow control statement decides what to do based on whether its condition is `True` or `False`, and almost every flow control statement uses a condition."
   ]
  },
  {
   "cell_type": "markdown",
   "metadata": {},
   "source": [
    "\n",
    "## Blocks of Code\n",
    "\n",
    "Lines of Python code can be grouped together in blocks. You can tell when a block begins and ends from the indentation of the lines of code. There are three rules for blocks.\n",
    "\n",
    "- Blocks begin when the indentation increases.\n",
    "- Blocks can contain other blocks.\n",
    "- Blocks end when the indentation decreases to zero or to a containing block’s indentation.\n",
    "\n",
    "\n",
    "Blocks are easier to understand by looking at some indented code, so let’s find the blocks in part of a small game program, shown here:"
   ]
  },
  {
   "cell_type": "code",
   "execution_count": null,
   "metadata": {},
   "outputs": [],
   "source": [
    "name = 'Mary'\n",
    "password = 'swordfish'\n",
    "if name == 'Mary':\n",
    "    print('Hello, Mary')\n",
    "    if password == 'swordfish':\n",
    "        print('Access granted.')\n",
    "    else:\n",
    "        print('Wrong password')"
   ]
  },
  {
   "cell_type": "markdown",
   "metadata": {},
   "source": [
    "The first block of code starts at the line `print('Hello, Mary')` and contains all the lines after it. Inside this block is another block, which has only a single line in it: `print('Access Granted.')`. The third block is also one line long: `print('Wrong password.')`.\n",
    "\n",
    "## Program Execution\n",
    "\n",
    "In the previous chapter’s `hello.py` program, Python started executing instructions at the top of the program going down, one after another. The program execution (or simply, execution) is a term for the current instruction being executed. If you print the source code on paper and put your finger on each line as it is executed, you can think of your finger as the program execution.\n",
    "\n",
    "Not all programs execute by simply going straight down, however. If you use your finger to trace through a program with flow control statements, you’ll likely find yourself jumping around the source code based on conditions, and you’ll probably skip entire clauses.\n",
    "\n",
    "## Flow Control Statements\n",
    "\n",
    "Now, let’s explore the most important piece of flow control: the statements themselves. The statements represent the diamonds you saw in the flowchart in Figure 2-1, and they are the actual decisions your programs will make.\n",
    "\n",
    "## `if` Statements\n",
    "\n",
    "The most common type of flow control statement is the `if` statement. An `if` statement’s clause (that is, the block following the if statement) will execute if the statement’s condition is `True`. The clause is skipped if the condition is `False`.\n",
    "\n",
    "In plain English, an if statement could be read as, “If this condition is true, execute the code in the clause.” In Python, an if statement consists of the following:\n",
    "\n",
    "- The if keyword\n",
    "- A condition (that is, an expression that evaluates to `True` or `False`)\n",
    "- A colon\n",
    "- Starting on the next line, an indented block of code (called the `if` clause)\n",
    "\n",
    "For example, let’s say you have some code that checks to see whether someone’s name is Alice. (Pretend name was assigned some value earlier.)\n",
    "\n"
   ]
  },
  {
   "cell_type": "code",
   "execution_count": null,
   "metadata": {},
   "outputs": [],
   "source": [
    "if name == 'Alice':\n",
    "    print('Hi, Alice.')"
   ]
  },
  {
   "cell_type": "markdown",
   "metadata": {},
   "source": [
    "\n",
    "All flow control statements end with a colon and are followed by a new block of code (the clause). This if statement’s clause is the block with print('Hi, Alice.')."
   ]
  },
  {
   "cell_type": "markdown",
   "metadata": {},
   "source": [
    "### Table 2-4: The not Operator’s Truth Table\n",
    "\n",
    "<img src=https://automatetheboringstuff.com/2e/images/000147.jpg />"
   ]
  },
  {
   "cell_type": "markdown",
   "metadata": {},
   "source": [
    "## else Statements\n",
    "\n",
    "An `if` clause can optionally be followed by an `else` statement. The `else` clause is executed only when the `if` statement’s condition is `False`. In plain English, an `else` statement could be read as, “If this condition is true, execute this code. Or else, execute that code.” An `else` statement doesn’t have a condition, and in code, an else statement always consists of the following:\n",
    "\n",
    "- The else keyword\n",
    "- A colon\n",
    "- Starting on the next line, an indented block of code (called the `else` clause)\n",
    "\n",
    "Returning to the Alice example, let’s look at some code that uses an `else` statement to offer a different greeting if the person’s name isn’t Alice.\n"
   ]
  },
  {
   "cell_type": "code",
   "execution_count": null,
   "metadata": {},
   "outputs": [],
   "source": [
    "if name == 'Alice':\n",
    "    print('Hi, Alice.')\n",
    "else:\n",
    "    print('Hello, stranger.')"
   ]
  },
  {
   "cell_type": "markdown",
   "metadata": {},
   "source": [
    "### Figure 2-3: The flowchart for an else statement\n",
    "\n",
    "<img src=\"https://automatetheboringstuff.com/2e/images/000118.jpg\" />"
   ]
  },
  {
   "cell_type": "markdown",
   "metadata": {},
   "source": [
    "\n",
    "## elif Statements\n",
    "\n",
    "While only one of the `if` or `else` clauses will execute, you may have a case where you want one of many possible clauses to execute. The elif statement is an “else if” statement that always follows an `if` or another `elif` statement. It provides another condition that is checked only if all of the previous conditions were `False`. In code, an `elif` statement always consists of the following:\n",
    "- The `elif` keyword\n",
    "- A condition (that is, an expression that evaluates to True or False)\n",
    "- A colon\n",
    "- Starting on the next line, an indented block of code (called the elif clause)\n",
    "\n",
    "Let’s add an elif to the name checker to see this statement in action\n"
   ]
  },
  {
   "cell_type": "code",
   "execution_count": null,
   "metadata": {},
   "outputs": [],
   "source": [
    "if name == 'Alice':\n",
    "    print('Hi, Alice.')\n",
    "elif age < 12:\n",
    "    print('You are not Alice, kiddo.')"
   ]
  },
  {
   "cell_type": "markdown",
   "metadata": {},
   "source": [
    "------------------\n",
    "\n",
    "This time, you check the person’s age, and the program will tell them something different if they’re younger than 12. \n",
    "\n",
    "### Figure 2-4: The flowchart for an elif statement\n",
    "\n",
    "<img src=\"https://automatetheboringstuff.com/2e/images/000145.jpg\" />\n",
    "\n",
    "The `elif` clause executes if `age < 12` is `True` and `name == 'Alice'` is `False`. However, if both of the conditions are `False`, then both of the clauses are skipped. It is not guaranteed that at least one of the clauses will be executed. When there is a chain of `elif` statements, only one or none of the clauses will be executed. Once one of the statements’ conditions is found to be `True`, the rest of the `elif` clauses are automatically skipped. For example, open a new file editor window and enter the following code, saving it as `vampire.py`:\n",
    "\n",
    "------------------"
   ]
  },
  {
   "cell_type": "code",
   "execution_count": null,
   "metadata": {},
   "outputs": [],
   "source": [
    "name = 'Carol'\n",
    "age = 3000\n",
    "if name == 'Alice':\n",
    "    print('Hi, Alice.')\n",
    "elif age < 12:\n",
    "    print('You are not Alice, kiddo.')\n",
    "elif age > 2000:\n",
    "    print('Unlike you, Alice is not an undead, immortal vampire.')\n",
    "elif age > 100:\n",
    "    print('You are not Alice, grannie.')"
   ]
  },
  {
   "cell_type": "markdown",
   "metadata": {},
   "source": [
    "------------------\n",
    "\n",
    "Here, I’ve added two more `elif` statements to make the name checker greet a person with different answers based on `age`.\n",
    "\n",
    "### Figure 2-5: The flowchart for multiple elif statements in the vampire.py program\n",
    "\n",
    "<img src=\"https://automatetheboringstuff.com/2e/images/000080.jpg\" />\n",
    "\n",
    "The order of the `elif` statements does matter, however. Let’s rearrange them to introduce a bug. Remember that the rest of the `elif` clauses are automatically skipped once a `True` condition has been found, so if you swap around some of the clauses in `vampire.py`, you run into a problem. Change the code to look like the following, and save it as `vampire2.py`:\n",
    "\n",
    "------------------"
   ]
  },
  {
   "cell_type": "code",
   "execution_count": null,
   "metadata": {},
   "outputs": [],
   "source": [
    "name = 'Carol'\n",
    "age = 3000\n",
    "if name == 'Alice':\n",
    "   print('Hi, Alice.')\n",
    "elif age < 12:\n",
    "   print('You are not Alice, kiddo.')\n",
    "elif age > 100:\n",
    "   print('You are not Alice, grannie.')\n",
    "elif age > 2000:\n",
    "   print('Unlike you, Alice is not an undead, immortal vampire.')"
   ]
  },
  {
   "cell_type": "markdown",
   "metadata": {},
   "source": [
    "------------------\n",
    "\n",
    "Say the `age` variable contains the value `3000` before this code is executed. You might expect the code to print the string `'Unlike you, Alice is not an undead, immortal vampire.'.` However, because the `age > 100` condition is `True` (after all, `3,000` is greater than `100`), the string `'You are not Alice, grannie.'` is printed, and the rest of the `elif` statements are automatically skipped. Remember that at most only one of the clauses will be executed, and for elif statements, the order matters!\n",
    "\n",
    "Optionally, you can have an else statement after the last `elif` statement. In that case, it is guaranteed that at least one (and only one) of the clauses will be executed. If the conditions in every `if` and `elif` statement are `False`, then the else clause is executed. For example, let’s re-create the Alice program to use `if`, `elif`, and `else` clauses.\n",
    "\n",
    "------------------"
   ]
  },
  {
   "cell_type": "code",
   "execution_count": null,
   "metadata": {},
   "outputs": [],
   "source": [
    "name = 'Carol'\n",
    "age = 3000\n",
    "if name == 'Alice':\n",
    "    print('Hi, Alice.')\n",
    "elif age < 12:\n",
    "    print('You are not Alice, kiddo.')\n",
    "else:\n",
    "    print('You are neither Alice nor a little kid.')"
   ]
  },
  {
   "cell_type": "markdown",
   "metadata": {},
   "source": [
    "------------------\n",
    "\n",
    "In plain English, this type of flow control structure would be “If the first condition is true, do this. Else, if the second condition is true, do that. Otherwise, do something else.” \n",
    "\n",
    "First, there is always exactly one if statement. Any elif statements you need should follow the `if` statement. Second, if you want to be sure that at least one clause is executed, close the structure with an `else` statement.\n"
   ]
  },
  {
   "cell_type": "markdown",
   "metadata": {},
   "source": [
    "### Figure 2-6: The flowchart for the vampire2.py program\n",
    "\n",
    "The X path will logically never happen, because if age were greater than 2000, it would have already been greater than 100.\n",
    "\n",
    "<img src=\"https://automatetheboringstuff.com/2e/images/000136.jpg\" />"
   ]
  },
  {
   "cell_type": "markdown",
   "metadata": {},
   "source": [
    "### Figure 2-7: Flowchart for the previous littleKid.py program\n",
    "\n",
    "<img src=\"https://automatetheboringstuff.com/2e/images/000032.jpg\" />\n"
   ]
  },
  {
   "cell_type": "markdown",
   "metadata": {},
   "source": [
    "Flowchart for the previous `littleKid.py` program\n",
    "\n",
    "------------------"
   ]
  },
  {
   "cell_type": "markdown",
   "metadata": {},
   "source": [
    "## while Loop Statements\n",
    "\n",
    "You can make a block of code execute over and over again using a `while` statement. The code in a `while` clause will be executed as long as the `while` statement’s condition is `True`. In code, a while statement always consists of the following:\n",
    "\n",
    "- The `while` keyword\n",
    "- A condition (that is, an expression that evaluates to `True` or `Fals`e)\n",
    "- A colon\n",
    "- Starting on the next line, an indented block of code (called the while clause)\n",
    "\n",
    "You can see that a while statement looks similar to an if statement. The difference is in how they behave. At the end of an if clause, the program execution continues after the `if` statement. But at the end of a `while` clause, the program execution jumps back to the start of the `while` statement. The `while` clause is often called the *while loop* or just the *loop*.\n",
    "\n",
    "Let’s look at an if statement and a `while` loop that use the same condition and take the same actions based on that condition. Here is the code with an `if` statement:"
   ]
  },
  {
   "cell_type": "code",
   "execution_count": null,
   "metadata": {},
   "outputs": [],
   "source": [
    "spam = 0\n",
    "if spam < 5:\n",
    "    print('Hello, world.')\n",
    "    spam = spam + 1"
   ]
  },
  {
   "cell_type": "markdown",
   "metadata": {},
   "source": [
    "------------------\n",
    "\n",
    "Here is the code with a while statement:\n",
    "\n",
    "------------------"
   ]
  },
  {
   "cell_type": "code",
   "execution_count": null,
   "metadata": {},
   "outputs": [],
   "source": [
    "spam = 0\n",
    "while spam < 5:\n",
    "    print('Hello, world.')\n",
    "    spam = spam + 1"
   ]
  },
  {
   "cell_type": "markdown",
   "metadata": {},
   "source": [
    "------------------\n",
    "\n",
    "These statements are similar—both `if` and `while` check the value of `spam`, and if it’s less than 5, they print a message. But when you run these two code snippets, something very different happens for each one. For the if statement, the output is simply `\"Hello, world.\".` But for the while statement, it’s `\"Hello, world.\"` repeated five times! "
   ]
  },
  {
   "cell_type": "markdown",
   "metadata": {},
   "source": [
    "### Figure 2-8: The flowchart for the if statement code\n",
    "\n",
    "<img src=\"https://automatetheboringstuff.com/2e/images/000072.jpg\" />\n"
   ]
  },
  {
   "cell_type": "markdown",
   "metadata": {},
   "source": [
    "### Figure 2-9: The flowchart for the while statement code\n",
    "\n",
    "<img src=\"https://automatetheboringstuff.com/2e/images/000112.jpg\" />\n"
   ]
  },
  {
   "cell_type": "markdown",
   "metadata": {},
   "source": [
    "The code with the if statement checks the condition, and it prints `Hello, world`. only once if that condition is true. The code with the `while` loop, on the other hand, will print it five times. The loop stops after five prints because the integer in spam increases by one at the end of each loop iteration, which means that the loop will execute five times before `spam < 5` is `False`.\n",
    "\n",
    "In the `while` loop, the condition is always checked at the start of each *iteration* (that is, each time the loop is executed). If the condition is `True`, then the clause is executed, and afterward, the condition is checked again. The first time the condition is found to be `False`, the `while` clause is skipped.\n",
    "\n",
    "## An Annoying while Loop\n",
    "Here’s a small example program that will keep asking you to type, literally, `your name`. Select File ▸ New to open a new file editor window, enter the following code, and save the file as `yourName.py`:"
   ]
  },
  {
   "cell_type": "code",
   "execution_count": null,
   "metadata": {},
   "outputs": [],
   "source": [
    "name = ''\n",
    "while name != 'your name':\n",
    "    print('Please type your name.')\n",
    "    name = input()\n",
    "print('Thank you!')"
   ]
  },
  {
   "cell_type": "markdown",
   "metadata": {},
   "source": [
    "First, the program sets the `name` variable to an empty string. This is so that the `name != 'your name'` condition will evaluate to `True` and the program execution will enter the while loop’s clause.\n",
    "\n",
    "The code inside this clause asks the user to type their name, which is assigned to the `name` variable.\n",
    "\n",
    "Since this is the last line of the block, the execution moves back to the start of the `while` loop and reevaluates the condition.\n",
    "\n",
    "If the value in name is not equal to the string `'your name'`, then the condition is `True`, and the execution enters the `while` clause again.\n",
    "\n",
    "But once the user types `your name`, the condition of the `whil`e loop will be `'your name' != 'your name'`, which evaluates to `False`. The condition is now `False`, and instead of the program execution reentering the `while` loop’s clause, Python skips past it and continues running the rest of the program. \n"
   ]
  },
  {
   "cell_type": "markdown",
   "metadata": {},
   "source": [
    "### Figure 2-10: A flowchart of the yourName.py program\n",
    "\n",
    "<img src=\"https://automatetheboringstuff.com/2e/images/000042.jpg\" />"
   ]
  },
  {
   "cell_type": "markdown",
   "metadata": {},
   "source": [
    "Now, let’s see `yourName.py` in action. Press **F5** to run it, and enter something other than `your name` a few times before you give the program what it wants.\n",
    "\n",
    "------------------\n",
    "\n",
    "```\n",
    "Please type your name.\n",
    "Al\n",
    "Please type your name.\n",
    "Albert\n",
    "Please type your name.\n",
    "%#@#%*(^&!!!\n",
    "Please type your name.\n",
    "your name\n",
    "Thank you!\n",
    "```\n",
    "------------------\n",
    "\n",
    "If you never enter `your name`, then the while loop’s condition will never be `False`, and the program will just keep asking forever. Here, the `input()` call lets the user enter the right string to make the program move on. In other programs, the condition might never actually change, and that can be a problem. Let’s look at how you can break out of a `while` loop.\n",
    "\n"
   ]
  },
  {
   "cell_type": "markdown",
   "metadata": {},
   "source": [
    "\n",
    "## break Statements\n",
    "\n",
    "There is a shortcut to getting the program execution to break out of a `while` loop’s clause early. If the execution reaches a `break` statement, it immediately exits the `while` loop’s clause. In code, a `break` statement simply contains the break keyword.\n",
    "\n",
    "Pretty simple, right? Here’s a program that does the same thing as the previous program, but it uses a break statement to escape the loop. Enter the following code, and save the file as 1yourName2.py1:\n",
    "\n",
    "----------------"
   ]
  },
  {
   "cell_type": "code",
   "execution_count": null,
   "metadata": {},
   "outputs": [],
   "source": [
    "while True:\n",
    "    print('Please type your name.')\n",
    "    name = input()\n",
    "    if name == 'your name':\n",
    "        break\n",
    "print('Thank you!')"
   ]
  },
  {
   "cell_type": "markdown",
   "metadata": {},
   "source": [
    "------------\n",
    "\n",
    "The first line creates an *infinite loop*; it is a *while* loop whose condition is always `True`. (The expression `True`, after all, always evaluates down to the value `True`.) After the program execution enters this loop, it will exit the loop only when a `break` statement is executed. (An infinite loop that *never* exits is a common programming bug.)\n",
    "\n",
    "Just like before, this program asks the user to enter your name. Now, however, while the execution is still inside the while loop, an `if` statement checks whether name is equal to `'your name'`. If this condition is `True`, the `break` statement is run, and the execution moves out of the loop to `print('Thank you!')`. Otherwise, the `if` statement’s clause that contains the break statement is skipped, which puts the execution at the end of the while loop. At this point, the program execution jumps back to the start of the while statement to recheck the condition. \n",
    "\n",
    "Since this condition is merely the `True` Boolean value, the execution enters the loop to ask the user to type your name again.\n",
    "\n",
    "Run `yourName2.py`, and enter the same text you entered for `yourName.py`. The rewritten program should respond in the same way as the original."
   ]
  },
  {
   "cell_type": "markdown",
   "metadata": {},
   "source": [
    "### Figure 2-11: The flowchart for the `yourName2.py` program with an infinite loop. \n",
    "\n",
    "Note that the X path will logically never happen, because the loop condition is always `True`.\n",
    "\n",
    "\n",
    "<img src=https://automatetheboringstuff.com/2e/images/000134.jpg />"
   ]
  },
  {
   "cell_type": "markdown",
   "metadata": {},
   "source": [
    "## continue Statements\n",
    "\n",
    "Like `break` statements, `continue` statements are used inside loops. When the program execution reaches a continue statement, the program execution immediately jumps back to the start of the loop and reevaluates the loop’s condition. (This is also what happens when the execution reaches the end of the loop.)\n",
    "\n",
    "Let’s use `continue` to write a program that asks for a name and password. Enter the following code into a new file editor window and save the program as `swordfish.py`.\n",
    "\n",
    "------------"
   ]
  },
  {
   "cell_type": "code",
   "execution_count": null,
   "metadata": {},
   "outputs": [],
   "source": [
    "while True:\n",
    "    print('Who are you?')\n",
    "    name = input()\n",
    "    if name != 'Joe':\n",
    "       continue\n",
    "       print('Hello, Joe. What is the password? (It is a fish.)')\n",
    "    password = input()\n",
    "    if password == 'swordfish':\n",
    "        break\n",
    "print('Access granted.')    "
   ]
  },
  {
   "cell_type": "markdown",
   "metadata": {},
   "source": [
    "-----------------------------\n",
    "\n",
    "### TRAPPED IN AN INFINITE LOOP?\n",
    "\n",
    "If you ever run a program that has a bug causing it to get stuck in an infinite loop, press `CTRL-C` or select **Shell ▸ Restart Shell** from IDLE’s menu. This will send a KeyboardInterrupt error to your program and cause it to stop immediately. Try stopping a program by creating a simple infinite loop in the file editor, and save the program as `infiniteLoop.py`.\n",
    "\n",
    "\n",
    "-----------------\n"
   ]
  },
  {
   "cell_type": "code",
   "execution_count": null,
   "metadata": {},
   "outputs": [],
   "source": [
    "while True:\n",
    "    print('Hello, world!')"
   ]
  },
  {
   "cell_type": "markdown",
   "metadata": {},
   "source": [
    "-----------------\n",
    "\n",
    "When you run this program, it will print `Hello, world!` to the screen forever because the while statement’s condition is always `True`. `CTRL-C` is also handy if you want to simply terminate your program immediately, even if it’s not stuck in an infinite loop.\n",
    "\n",
    "-----------------"
   ]
  },
  {
   "cell_type": "markdown",
   "metadata": {},
   "source": [
    "If the user enters any name besides `Joe`, the continue statement causes the program execution to jump back to the start of the loop. When the program reevaluates the condition, the execution will always enter the loop, since the condition is simply the value `True`. \n",
    "\n",
    "Once the user makes it past that if statement, they are asked for a password . If the password entered is `swordfish`, then the `break` statement is run, and the execution jumps out of the `while` loop to print `Access granted`. Otherwise, the execution continues to the end of the `while` loop, where it then jumps back to the start of the loop.\n"
   ]
  },
  {
   "cell_type": "markdown",
   "metadata": {},
   "source": [
    "### Figure 2-12: A flowchart for `swordfish.py`. \n",
    "\n",
    "The X path will logically never happen, because the loop condition is always True.\n",
    "\n",
    "<img src=\"https://automatetheboringstuff.com/2e/images/000078.jpg\" />"
   ]
  },
  {
   "cell_type": "markdown",
   "metadata": {},
   "source": [
    "Run this program and give it some input. Until you claim to be Joe, the program shouldn’t ask for a password, and once you enter the correct password, it should exit.\n",
    "\n",
    "-------------\n",
    "\n",
    "```\n",
    "Who are you?\n",
    "I'm fine, thanks. Who are you?\n",
    "Who are you?\n",
    "Joe\n",
    "Hello, Joe. What is the password? (It is a fish.)\n",
    "Mary\n",
    "Who are you?\n",
    "Joe\n",
    "Hello, Joe. What is the password? (It is a fish.)\n",
    "swordfish\n",
    "Access granted.\n",
    "\n",
    "\n",
    "```\n",
    "-------------\n"
   ]
  },
  {
   "cell_type": "markdown",
   "metadata": {},
   "source": [
    "### “TRUTHY” AND “FALSEY” VALUES\n",
    "\n",
    "Conditions will consider some values in other data types equivalent to `True` and `False`. When used in conditions,`0`, `0.0`, and `''` (the empty string) are considered `False`, while all other values are considered `True`. For example, look at the following program:\n"
   ]
  },
  {
   "cell_type": "code",
   "execution_count": null,
   "metadata": {},
   "outputs": [],
   "source": [
    "name = ''\n",
    "while not name:\n",
    "    print('Enter your name:')\n",
    "    name = input()\n",
    "print('How many guests will you have?')\n",
    "numOfGuests = int(input())\n",
    "if numOfGuests:\n",
    "    print('Be sure to have enough room for all your guests.')\n",
    "print('Done')"
   ]
  },
  {
   "cell_type": "markdown",
   "metadata": {},
   "source": [
    "If the user enters a blank string for name, then the while statement’s condition will be `True`, and the program continues to ask for a name. If the value for `numOfGuests` is not 0 , then the condition is considered to be `True`, and the program will print a reminder for the user.\n",
    "You could have entered `not name != ''` instead of `not name`, and `numOfGuests != 0` instead of `numOfGuests`, but using the truthy and falsey values can make your code easier to read."
   ]
  },
  {
   "cell_type": "markdown",
   "metadata": {},
   "source": [
    "## for Loops and the range() Function\n",
    "\n",
    "The `while` loop keeps looping while its condition is `True` (which is the reason for its name), but what if you want to execute a block of code only a certain number of times? You can do this with a for loop statement and the `range()` function.\n",
    "In code, a `for` statement looks something like for i in range(5): and includes the following:\n",
    "\n",
    "- The for keyword\n",
    "- A variable name\n",
    "- The in keyword\n",
    "- A call to the range() method with up to three integers passed to it\n",
    "- A colon\n",
    "- Starting on the next line, an indented block of code (called the for clause)\n",
    "\n",
    "Let’s create a new program called `fiveTimes.py` to help you see a `for` loop in action."
   ]
  },
  {
   "cell_type": "code",
   "execution_count": null,
   "metadata": {},
   "outputs": [],
   "source": [
    "print('My name is')\n",
    "for i in range(5):\n",
    "    print('Jimmy Five Times (' + str(i) + ')')"
   ]
  },
  {
   "cell_type": "markdown",
   "metadata": {},
   "source": [
    "The code in the for loop’s clause is run five times. The first time it is run, the variable `i` is set to `0`. The `print()` call in the clause will print `Jimmy Five Times (0)`. After Python finishes an iteration through all the code inside the `for` loop’s clause, the execution goes back to the top of the loop, and the `for` statement increments `i` by one. This is why `range(5)` results in five iterations through the clause, with `i` being set to `0`, then `1`, then `2`, then `3`, and then `4`. The variable `i` will go up to, but will not include, the integer passed to `range()`. \n",
    "\n",
    "When you run this program, it should print `Jimmy Five Times` followed by the value of `i` five times before leaving the `for` loop.\n",
    "\n",
    "\n",
    "### Figure 2-13: The flowchart for fiveTimes.py\n",
    "\n",
    "<img src=https://automatetheboringstuff.com/2e/images/000027.jpg />"
   ]
  },
  {
   "cell_type": "markdown",
   "metadata": {},
   "source": [
    "--------------\n",
    "#### NOTE\n",
    "\n",
    "You can use `break` and `continue` statements inside `for` loops as well. The `continue` statement will continue to the next value of the `for` loop’s counter, as if the program execution had reached the end of the loop and returned to the start. In fact, you can use `continue` and `break` statements only inside `while` and `for` loops. If you try to use these statements elsewhere, Python will give you an error.\n",
    "\n",
    "--------------"
   ]
  },
  {
   "cell_type": "markdown",
   "metadata": {},
   "source": [
    "As another `for` loop example, consider this story about the mathematician Carl Friedrich Gauss. When Gauss was a boy, a teacher wanted to give the class some busywork. The teacher told them to add up all the numbers from `0` to `100`. Young Gauss came up with a clever trick to figure out the answer in a few seconds, but you can write a Python program with a `for` loop to do this calculation for you.\n",
    "\n",
    "----------------"
   ]
  },
  {
   "cell_type": "code",
   "execution_count": null,
   "metadata": {},
   "outputs": [],
   "source": [
    "total = 0\n",
    "for num in range(101):\n",
    "    total = total + num\n",
    "print(total)  "
   ]
  },
  {
   "cell_type": "markdown",
   "metadata": {},
   "source": [
    "----------\n",
    "\n",
    "The result should be 5,050. When the program first starts, the total variable is set to 0. The for loop then executes `total = total + num` `100` times. By the time the loop has finished all of its `100` iterations, every integer from `0` to `100` will have been added to `total`. At this point, total is printed to the screen. Even on the slowest computers, this program takes less than a second to complete.\n",
    "\n",
    "(Young Gauss figured it out. There are 50 pairs of numbers that add up to 101: 1 + 100, 2 + 99, 3 + 98, and so on, until 50 + 51. Since 50 × 101 is 5,050, the sum of all the numbers from 0 to 100 is 5,050.)"
   ]
  },
  {
   "cell_type": "markdown",
   "metadata": {},
   "source": [
    "### An Equivalent while Loop\n",
    "\n",
    "You can actually use a `while` loop to do the same thing as a `for` loop; `for` loops are just more concise. Let’s rewrite `fiveTimes.py` to use a `while loop equivalent of a `for` loop.\n",
    "\n",
    "-------------"
   ]
  },
  {
   "cell_type": "code",
   "execution_count": null,
   "metadata": {},
   "outputs": [],
   "source": [
    "print('My name is')\n",
    "i = 0\n",
    "while i < 5:\n",
    "    print('Jimmy Five Times (' + str(i) + ')')\n",
    "    i = i + 1"
   ]
  },
  {
   "cell_type": "markdown",
   "metadata": {},
   "source": [
    "-------------\n",
    "\n",
    "If you run this program, the output should look the same as the `fiveTimes.py` program, which uses a `for` loop."
   ]
  },
  {
   "cell_type": "markdown",
   "metadata": {},
   "source": [
    "### The Starting, Stopping, and Stepping Arguments to range()\n",
    "\n",
    "Some functions can be called with multiple arguments separated by a comma, and range() is one of them. This lets you change the integer passed to range() to follow any sequence of integers, including starting at a number other than zero.\n",
    "\n",
    "-----------------"
   ]
  },
  {
   "cell_type": "code",
   "execution_count": null,
   "metadata": {},
   "outputs": [],
   "source": [
    "for i in range(12, 16):\n",
    "    print(i)"
   ]
  },
  {
   "cell_type": "markdown",
   "metadata": {},
   "source": [
    "-----------------\n",
    "\n",
    "The first argument will be where the `for` loop’s variable starts, and the second argument will be up to, but not including, the number to stop at.\n",
    "\n",
    "\n",
    "The `range()` function can also be called with three arguments. The first two arguments will be the start and stop values, and the third will be the *step argument*. The step is the amount that the variable is increased by after each iteration.\n",
    "\n",
    "-----------------"
   ]
  },
  {
   "cell_type": "code",
   "execution_count": null,
   "metadata": {},
   "outputs": [],
   "source": [
    "for i in range(0, 10, 2):\n",
    "    print(i)"
   ]
  },
  {
   "cell_type": "markdown",
   "metadata": {},
   "source": [
    "-----------------\n",
    "\n",
    "So calling range(0, 10, 2) will count from zero to eight by intervals of two.\n",
    "\n",
    "The `range()` function is flexible in the sequence of numbers it produces for `for` loops. For example, you can even use a negative number for the step argument to make the `for` loop count down instead of up.\n",
    "\n",
    "-----------------"
   ]
  },
  {
   "cell_type": "code",
   "execution_count": null,
   "metadata": {},
   "outputs": [],
   "source": [
    "for i in range(5, -1, -1):\n",
    "    print(i)"
   ]
  },
  {
   "cell_type": "markdown",
   "metadata": {},
   "source": [
    "-----------------\n",
    "\n",
    "Running a `for` loop to print `i` with `range(5, -1, -1)` should print from five down to zero.\n",
    "\n",
    "## Importing Modules\n",
    "\n",
    "All Python programs can call a basic set of functions called built-in functions, including the `print()`, `input()`, and `len()` functions you’ve seen before. Python also comes with a set of modules called the *standard library*. Each module is a Python program that contains a related group of functions that can be embedded in your programs. For example, the `math` module has mathematics-related functions, the *random* module has random number-related functions, and so on.\n",
    "\n",
    "\n",
    "Before you can use the functions in a module, you must import the module with an `import` statement. In code, an import statement consists of the following:\n",
    "\n",
    "- The import keyword\n",
    "- The name of the module\n",
    "- Optionally, more module names, as long as they are separated by commas\n",
    "\n",
    "Once you import a module, you can use all the cool functions of that module. Let’s give it a try with the `random` module, which will give us access to the `random.randint()` function.\n",
    "\n",
    "Enter this code into the file editor, and save it as `printRandom.py`:\n",
    "\n",
    "-----------------"
   ]
  },
  {
   "cell_type": "code",
   "execution_count": null,
   "metadata": {},
   "outputs": [],
   "source": [
    "import random\n",
    "for i in range(5):\n",
    "    print(random.randint(1, 10))"
   ]
  },
  {
   "cell_type": "markdown",
   "metadata": {},
   "source": [
    "-----------------\n",
    "\n",
    "The `random.randint()` function call evaluates to a random integer value between the two integers that you pass it. Since `randint()` is in the random module, you must first type **random**. in front of the function name to tell Python to look for this function inside the `random` module.\n",
    "\n",
    "Here’s an example of an import statement that imports four different modules:\n",
    "\n",
    "-----------------\n",
    "```python\n",
    "import random, sys, os, math\n",
    "\n",
    "```\n",
    "-----------------"
   ]
  },
  {
   "cell_type": "markdown",
   "metadata": {},
   "source": [
    "\n",
    "#### DON’T OVERWRITE MODULE NAMES\n",
    "\n",
    "When you save your Python scripts, take care not to give them a name that is used by one of Python’s modules, such as `random.py`, `sys.py`, `os.py`, or `math.py`. If you accidentally name one of your programs, say, `random.py`, and use an `import random` statement in another program, your program would import your `random.py` file instead of Python’s random module. This can lead to errors such as `AttributeError: module 'random' has no attribute 'randint'`, since your `random.py` doesn’t have the functions that the real random module has. Don’t use the names of any built-in Python functions either, such as `print()` or `input(`).\n",
    "\n",
    "Problems like these are uncommon, but can be tricky to solve. As you gain more programming experience, you’ll become more aware of the standard names used by Python’s modules and functions, and will run into these problems less frequently."
   ]
  },
  {
   "cell_type": "markdown",
   "metadata": {},
   "source": [
    "## `from import` Statements\n",
    "\n",
    "An alternative form of the `import` statement is composed of the `from` keyword, followed by the module name, the `import` keyword, and a star; for example, `from random import *`.\n",
    "\n",
    "With this form of `import` statement, calls to functions in `random` will not need the `random`. prefix. However, using the full name makes for more readable code, so it is better to use the `import random` form of the statement."
   ]
  },
  {
   "cell_type": "markdown",
   "metadata": {},
   "source": [
    "## Ending a Program Early with the `sys.exit()` Function\n",
    "\n",
    "The last flow control concept to cover is how to terminate the program. Programs always terminate if the program execution reaches the bottom of the instructions. However, you can cause the program to terminate, or exit, before the last instruction by calling the `sys.exit()` function. Since this function is in the `sys` module, you have to import sys before your program can use it.\n",
    "\n",
    "Open a file editor window and enter the following code, saving it as `exitExample.py`:\n",
    "\n",
    "-----------------"
   ]
  },
  {
   "cell_type": "code",
   "execution_count": null,
   "metadata": {},
   "outputs": [],
   "source": [
    "import sys\n",
    "\n",
    "while True:\n",
    "    print('Type exit to exit.')\n",
    "    response = input()\n",
    "    if response == 'exit':\n",
    "        sys.exit()\n",
    "    print('You typed ' + response + '.')"
   ]
  },
  {
   "cell_type": "markdown",
   "metadata": {},
   "source": [
    "-----------------\n",
    "\n",
    "Run this program in IDLE. This program has an infinite loop with no `break` statement inside. The only way this program will end is if the execution reaches the `sys.exit()` call. When `response` is equal to `exit`, the line containing the `sys.exit()` call is executed. Since the response variable is set by the `input()` function, the user must enter `exit` in order to stop the program."
   ]
  },
  {
   "cell_type": "markdown",
   "metadata": {},
   "source": [
    "## A Short Program: Guess the Number\n",
    "\n",
    "The examples I’ve shown you so far are useful for introducing basic concepts, but now let’s see how everything you’ve learned comes together in a more complete program. In this section, I’ll show you a simple “guess the number” game. When you run this program, the output will look something like this:\n",
    "\n",
    "-----------------\n",
    "```\n",
    "I am thinking of a number between 1 and 20.\n",
    "Take a guess.\n",
    "10\n",
    "Your guess is too low.\n",
    "Take a guess.\n",
    "15\n",
    "Your guess is too low.\n",
    "Take a guess.\n",
    "17\n",
    "Your guess is too high.\n",
    "Take a guess.\n",
    "16\n",
    "Good job! You guessed my number in 4 guesses!\n",
    "```\n",
    "-----------------\n",
    "\n",
    "Enter the following source code into the file editor, and save the file as guessTheNumber.py:\n"
   ]
  },
  {
   "cell_type": "code",
   "execution_count": null,
   "metadata": {},
   "outputs": [],
   "source": [
    "# This is a guess the number game.\n",
    "import random\n",
    "secretNumber = random.randint(1, 20)\n",
    "print('I am thinking of a number between 1 and 20.')\n",
    "\n",
    "# Ask the player to guess 6 times.\n",
    "for guessesTaken in range(1, 7):\n",
    "    print('Take a guess.')\n",
    "    guess = int(input())\n",
    "\n",
    "    if guess < secretNumber:\n",
    "        print('Your guess is too low.')\n",
    "    elif guess > secretNumber:\n",
    "        print('Your guess is too high.')\n",
    "    else:\n",
    "        break    # This condition is the correct guess!\n",
    "\n",
    "if guess == secretNumber:\n",
    "    print('Good job! You guessed my number in ' + str(guessesTaken) + 'guesses!')\n",
    "else:\n",
    "    print('Nope. The number I was thinking of was ' + str(secretNumber))"
   ]
  },
  {
   "cell_type": "markdown",
   "metadata": {},
   "source": [
    "### Let’s look at this code line by line, starting at the top.\n",
    "\n",
    "-----------------\n",
    "\n",
    "```python\n",
    "# This is a guess the number game.\n",
    "import random\n",
    "secretNumber = random.randint(1, 20)\n",
    "```\n",
    "\n",
    "-----------------\n",
    "\n",
    "First, a comment at the top of the code explains what the program does. Then, the program imports the `random` module so that it can use the `random.randint()` function to generate a number for the user to guess. The return value, a random integer between `1` and `20`, is stored in the variable `secretNumber`.\n",
    "\n",
    "-----------------\n",
    "\n",
    "```python\n",
    "print('I am thinking of a number between 1 and 20.')\n",
    "\n",
    "# Ask the player to guess 6 times.\n",
    "for guessesTaken in range(1, 7):\n",
    "    print('Take a guess.')\n",
    "    guess = int(input())\n",
    "```\n",
    "\n",
    "-----------------\n",
    "\n",
    "The program tells the player that it has come up with a secret number and will give the player six chances to guess it. The code that lets the player enter a guess and checks that guess is in a for loop that will loop at most six times. The first thing that happens in the loop is that the player types in a guess. Since `input()` returns a string, its return value is passed straight into `int()`, which translates the string into an integer value. This gets stored in a variable named `guess`.\n",
    "\n",
    "-----------------\n",
    "\n",
    "```python\n",
    "if guess < secretNumber:\n",
    "    print('Your guess is too low.')\n",
    "elif guess > secretNumber:\n",
    "    print('Your guess is too high.')\n",
    "```\n",
    "\n",
    "-----------------\n",
    "\n",
    "These few lines of code check to see whether the guess is less than or greater than the secret number. In either case, a hint is printed to the screen.\n",
    "\n",
    "-----------------\n",
    "\n",
    "```python\n",
    " else:\n",
    "        break    # This condition is the correct guess!\n",
    "```\n",
    "\n",
    "-----------------\n",
    "\n",
    "If the guess is neither higher nor lower than the secret number, then it must be equal to the secret number—in which case, you want the program execution to break out of the `for` loop.\n",
    "\n",
    "-----------------\n",
    "\n",
    "```python\n",
    "if guess == secretNumber:\n",
    "    print('Good job! You guessed my number in ' + str(guessesTaken) + ' guesses!')\n",
    "else:\n",
    "    print('Nope. The number I was thinking of was ' + str(secretNumber))\n",
    "```\n",
    "\n",
    "-----------------\n",
    "\n",
    "After the `for` loop, the previous `if`...`else` statement checks whether the player has correctly guessed the number and then prints an appropriate message to the screen. In both cases, the program displays a variable that contains an integer value (`guessesTaken` and `secretNumber`). Since it must concatenate these integer values to strings, it passes these variables to the `str()` function, which returns the string value form of these integers. Now these strings can be concatenated with the `+` operators before finally being passed to the `print()` function call.\n"
   ]
  },
  {
   "cell_type": "markdown",
   "metadata": {},
   "source": [
    "## A Short Program: Rock, Paper, Scissors\n",
    "\n",
    "Let’s use the programming concepts we’ve learned so far to create a simple rock, paper, scissors game. The output will look like this:\n",
    "\n",
    "-----------------\n",
    "```\n",
    "ROCK, PAPER, SCISSORS\n",
    "0 Wins, 0 Losses, 0 Ties\n",
    "Enter your move: (r)ock (p)aper (s)cissors or (q)uit\n",
    "p\n",
    "PAPER versus...\n",
    "PAPER\n",
    "It is a tie!\n",
    "0 Wins, 1 Losses, 1 Ties\n",
    "Enter your move: (r)ock (p)aper (s)cissors or (q)uit\n",
    "s\n",
    "SCISSORS versus...\n",
    "PAPER\n",
    "You win!\n",
    "1 Wins, 1 Losses, 1 Ties\n",
    "Enter your move: (r)ock (p)aper (s)cissors or (q)uit\n",
    "q\n",
    "```\n",
    "-----------------\n",
    "\n",
    "Type the following source code into the file editor, and save the file as `rpsGame.py`:"
   ]
  },
  {
   "cell_type": "code",
   "execution_count": null,
   "metadata": {},
   "outputs": [],
   "source": [
    "import random, sys\n",
    "\n",
    "print('ROCK, PAPER, SCISSORS')\n",
    "\n",
    "# These variables keep track of the number of wins, losses, and ties.\n",
    "wins = 0\n",
    "losses = 0\n",
    "ties = 0\n",
    "\n",
    "while True: # The main game loop.\n",
    "    print('%s Wins, %s Losses, %s Ties' % (wins, losses, ties))\n",
    "    while True: # The player input loop.\n",
    "        print('Enter your move: (r)ock (p)aper (s)cissors or (q)uit')\n",
    "        playerMove = input()\n",
    "        if playerMove == 'q':\n",
    "            sys.exit() # Quit the program.\n",
    "        if playerMove == 'r' or playerMove == 'p' or playerMove == 's':\n",
    "            break # Break out of the player input loop.\n",
    "        print('Type one of r, p, s, or q.')\n",
    "\n",
    "    # Display what the player chose:\n",
    "    if playerMove == 'r':\n",
    "        print('ROCK versus...')\n",
    "    elif playerMove == 'p':\n",
    "        print('PAPER versus...')\n",
    "    elif playerMove == 's':\n",
    "        print('SCISSORS versus...')\n",
    "\n",
    "    # Display what the computer chose:\n",
    "    randomNumber = random.randint(1, 3)\n",
    "    if randomNumber == 1:\n",
    "        computerMove = 'r'\n",
    "        print('ROCK')\n",
    "    elif randomNumber == 2:\n",
    "        computerMove = 'p'\n",
    "        print('PAPER')\n",
    "    elif randomNumber == 3:\n",
    "        computerMove = 's'\n",
    "        print('SCISSORS')\n",
    "\n",
    "    # Display and record the win/loss/tie:\n",
    "    if playerMove == computerMove:\n",
    "        print('It is a tie!')\n",
    "        ties = ties + 1\n",
    "    elif playerMove == 'r' and computerMove == 's':\n",
    "        print('You win!')\n",
    "        wins = wins + 1\n",
    "    elif playerMove == 'p' and computerMove == 'r':\n",
    "        print('You win!')\n",
    "        wins = wins + 1\n",
    "    elif playerMove == 's' and computerMove == 'p':\n",
    "        print('You win!')\n",
    "        wins = wins + 1\n",
    "    elif playerMove == 'r' and computerMove == 'p':\n",
    "        print('You lose!')\n",
    "        losses = losses + 1\n",
    "    elif playerMove == 'p' and computerMove == 's':\n",
    "        print('You lose!')\n",
    "        losses = losses + 1\n",
    "    elif playerMove == 's' and computerMove == 'r':\n",
    "        print('You lose!')\n",
    "        losses = losses + 1"
   ]
  },
  {
   "cell_type": "markdown",
   "metadata": {},
   "source": [
    "--------------\n",
    "\n",
    "Let’s look at this code line by line, starting at the top.\n",
    "\n",
    "--------------\n",
    "\n",
    "```python\n",
    "import random, sys\n",
    "\n",
    "print('ROCK, PAPER, SCISSORS')\n",
    "\n",
    "# These variables keep track of the number of wins, losses, and ties.\n",
    "wins = 0\n",
    "losses = 0\n",
    "ties = 0\n",
    "```\n",
    "\n",
    "--------------"
   ]
  },
  {
   "cell_type": "markdown",
   "metadata": {},
   "source": [
    "First, we import the `random` and `sys` module so that our program can call the `random.randint()` and `sys.exit()` functions. We also set up three variables to keep track of how many wins, losses, and ties the player has had.\n",
    "\n",
    "\n",
    "--------------\n",
    "```python\n",
    "while True: # The main game loop.\n",
    "    print('%s Wins, %s Losses, %s Ties' % (wins, losses, ties))\n",
    "    while True: # The player input loop.\n",
    "        print('Enter your move: (r)ock (p)aper (s)cissors or (q)uit')\n",
    "        playerMove = input()\n",
    "        if playerMove == 'q':\n",
    "            sys.exit() # Quit the program.\n",
    "        if playerMove == 'r' or playerMove == 'p' or playerMove == 's':\n",
    "            break # Break out of the player input loop.\n",
    "        print('Type one of r, p, s, or q.')\n",
    "```  \n",
    "\n",
    "--------------\n",
    "\n",
    "This program uses a `while` loop inside of another `while` loop. The first loop is the main game loop, and a single game of rock, paper, scissors is player on each iteration through this loop. The second loop asks for input from the player, and keeps looping until the player has entered an `r`, `p`, `s`, or `q` for their move. The `r`, `p`, and `s` correspond to rock, paper, and scissors, respectively, while the q means the player intends to quit. In that case, `sys.exit()` is called and the program exits. If the player has entered `r`, `p`, or `s`, the execution breaks out of the loop. Otherwise, the program reminds the player to enter `r`, `p`, `s`, or `q` and goes back to the start of the loop.\n",
    " \n",
    "\n",
    "--------------\n",
    "\n",
    "```python\n",
    "# Display what the player chose:\n",
    "if playerMove == 'r':\n",
    "    print('ROCK versus...')\n",
    "elif playerMove == 'p':\n",
    "    print('PAPER versus...')\n",
    "elif playerMove == 's':\n",
    "    print('SCISSORS versus...')\n",
    "```\n",
    "\n",
    "--------------\n",
    "\n",
    "The player’s move is displayed on the screen.\n",
    "\n",
    "--------------\n",
    "```python\n",
    "# Display what the computer chose:\n",
    "randomNumber = random.randint(1, 3)\n",
    "if randomNumber == 1:\n",
    "    computerMove = 'r'\n",
    "    print('ROCK')\n",
    "elif randomNumber == 2:\n",
    "    computerMove = 'p'\n",
    "    print('PAPER')\n",
    "elif randomNumber == 3:\n",
    "    computerMove = 's'\n",
    "    print('SCISSORS')\n",
    "```\n",
    "\n",
    "Next, the computer’s move is randomly selected. Since `random.randint()` can only return a random number, the `1`, `2`, or `3` integer value it returns is stored in a variable named `randomNumber`. The program stores a `'r'`, `'p'`, or `'s'` string in `computerMove` based on the integer in `randomNumber`, as well as displays the computer’s move.\n",
    "\n",
    "--------------\n",
    "```python\n",
    "\n",
    "# Display and record the win/loss/tie:\n",
    "if playerMove == computerMove:\n",
    "    print('It is a tie!')\n",
    "    ties = ties + 1\n",
    "elif playerMove == 'r' and computerMove == 's':\n",
    "    print('You win!')\n",
    "    wins = wins + 1\n",
    "elif playerMove == 'p' and computerMove == 'r':\n",
    "    print('You win!')\n",
    "    wins = wins + 1\n",
    "elif playerMove == 's' and computerMove == 'p':\n",
    "    print('You win!')\n",
    "    wins = wins + 1\n",
    "elif playerMove == 'r' and computerMove == 'p':\n",
    "    print('You lose!')\n",
    "    losses = losses + 1\n",
    "elif playerMove == 'p' and computerMove == 's':\n",
    "    print('You lose!')\n",
    "    losses = losses + 1\n",
    "elif playerMove == 's' and computerMove == 'r':\n",
    "    print('You lose!')\n",
    "    losses = losses + 1\n",
    "```\n",
    "-----------\n",
    "\n",
    "Finally, the program compares the strings in `playerMove` and `computerMove`, and displays the results on the screen. It also increments the `wins`, `losses`, or `ties` variable appropriately. Once the execution reaches the end, it jumps back to the start of the main program loop to begin another game."
   ]
  },
  {
   "cell_type": "markdown",
   "metadata": {},
   "source": [
    "## Summary\n",
    "\n",
    "By using expressions that evaluate to `True` or `False` (also called conditions), you can write programs that make decisions on what code to execute and what code to skip. You can also execute code over and over again in a loop while a certain condition evaluates to `True`. The `break` and `continue` statements are useful if you need to exit a loop or jump back to the loop’s start.\n",
    "\n",
    "These flow control statements will let you write more intelligent programs. You can also use another type of flow control by writing your own functions, which is the topic of the next chapter.\n"
   ]
  },
  {
   "cell_type": "markdown",
   "metadata": {},
   "source": [
    "## Practice Questions\n",
    "\n",
    "1. What are the two values of the Boolean data type? How do you write them?\n",
    "2. What are the three Boolean operators?\n",
    "3. Write out the truth tables of each Boolean operator (that is, every possible combination of Boolean values for the operator and what they evaluate to).\n",
    "4. What do the following expressions evaluate to?\n",
    "\n",
    "-----------\n",
    "```\n",
    "(5 > 4) and (3 == 5)\n",
    "not (5 > 4) \n",
    "(5 > 4) or (3 == 5)\n",
    "not ((5 > 4) or (3 == 5))\n",
    "(True and True) and (True == False)\n",
    "(not False) or (not True)\n",
    "```\n",
    "-----------\n",
    "\n",
    "5. What are the six comparison operators?\n",
    "6. What is the difference between the equal to operator and the assignment operator?\n",
    "7. Explain what a condition is and where you would use one.\n",
    "8. Identify the three blocks in this code:\n",
    "\n",
    "-----------\n",
    "```python\n",
    "spam = 0\n",
    "if spam == 10:\n",
    "    print('eggs')\n",
    "    if spam > 5:\n",
    "        print('bacon')\n",
    "    else:\n",
    "        print('ham')\n",
    "    print('spam')\n",
    "print('spam')\n",
    "```\n",
    "-----------\n",
    "\n",
    "9. Write code that prints `Hello` if `1` is stored in `spam`, prints `Howdy` if `2` is stored in spam, and prints `Greetings!` if anything else is stored in `spam`.\n",
    "10. What keys can you press if your program is stuck in an infinite loop?\n",
    "11. What is the difference between `break` and `continue`?\n",
    "12. What is the difference between `range(10)`, `range(0, 10)`, and `range(0, 10, 1)` in a `for` loop?\n",
    "13. Write a short program that prints the numbers `1` to `10` using a `for` loop. Then write an equivalent program that prints the numbers `1` to `10` using a `while` loop.\n",
    "14. If you had a function named `bacon()` inside a module named `spam`, how would you call it after importing `spam`?\n",
    "\n",
    "Extra credit: Look up the `round()` and `abs()` functions on the internet, and find out what they do. Experiment with them in the interactive shell."
   ]
  },
  {
   "cell_type": "code",
   "execution_count": null,
   "metadata": {},
   "outputs": [],
   "source": []
  }
 ],
 "metadata": {
  "kernelspec": {
   "display_name": "Python 3",
   "language": "python",
   "name": "python3"
  },
  "language_info": {
   "codemirror_mode": {
    "name": "ipython",
    "version": 3
   },
   "file_extension": ".py",
   "mimetype": "text/x-python",
   "name": "python",
   "nbconvert_exporter": "python",
   "pygments_lexer": "ipython3",
   "version": "3.7.7"
  }
 },
 "nbformat": 4,
 "nbformat_minor": 1
}