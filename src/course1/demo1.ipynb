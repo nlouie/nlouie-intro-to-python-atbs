{
 "cells": [
  {
   "cell_type": "markdown",
   "metadata": {
    "pycharm": {
     "name": "#%% md\n"
    }
   },
   "source": [
    "# Python Programming for Beginners Demo 1 - Flow Control\n",
    "\n",
    "## Conditionals & Control Flow\n",
    "\n",
    "- Running different blocks of code based on boolean values\n",
    "- We can determine which parts of code to run, and which to not run"
   ]
  },
  {
   "cell_type": "code",
   "execution_count": null,
   "metadata": {
    "pycharm": {
     "name": "#%%\n"
    }
   },
   "outputs": [],
   "source": [
    "if (20 > 10):\n",
    "    print(\"foo\")\n",
    "else:\n",
    "    print(\"bar\")"
   ]
  },
  {
   "cell_type": "code",
   "execution_count": null,
   "metadata": {
    "pycharm": {
     "name": "#%%\n"
    }
   },
   "outputs": [],
   "source": [
    "if True:\n",
    "    print(\"hello\")\n",
    "if not False:\n",
    "    print(\"world\")"
   ]
  },
  {
   "cell_type": "code",
   "execution_count": null,
   "metadata": {
    "pycharm": {
     "name": "#%%\n"
    }
   },
   "outputs": [],
   "source": [
    "if True or False:\n",
    "    print(\"foobar\")\n",
    "else:\n",
    "    print(\"barfoo\")"
   ]
  },
  {
   "cell_type": "code",
   "execution_count": null,
   "metadata": {
    "pycharm": {
     "name": "#%%\n"
    }
   },
   "outputs": [],
   "source": [
    "if 10 / 5 == 2:\n",
    "    print(\"fizz\")"
   ]
  },
  {
   "cell_type": "code",
   "execution_count": null,
   "metadata": {
    "pycharm": {
     "name": "#%%\n"
    }
   },
   "outputs": [],
   "source": [
    "x = True\n",
    "y = False\n",
    "if not x:\n",
    "    print(x)\n",
    "elif y is False:\n",
    "    print(y)\n",
    "else:\n",
    "    print(\"1\")"
   ]
  },
  {
   "cell_type": "code",
   "execution_count": null,
   "metadata": {
    "pycharm": {
     "name": "#%%\n"
    }
   },
   "outputs": [],
   "source": [
    "# booleans (0,1)\n",
    "isAsleep = True\n",
    "isAwake = False\n",
    "\n",
    "if isAsleep:\n",
    "    print(\"zzzz\")"
   ]
  },
  {
   "cell_type": "code",
   "execution_count": null,
   "metadata": {
    "pycharm": {
     "name": "#%%\n"
    }
   },
   "outputs": [],
   "source": [
    "# lists\n",
    "\n",
    "emotions = [\"fear\", \"happiness\", \"anger\", \"envy\", \"sadness\"]\n",
    "\n",
    "# indexes start at 0, 1, 2,...n-1\n",
    "print(emotions[1]) # indexing 1-th element\n",
    "print(len(emotions))"
   ]
  },
  {
   "cell_type": "code",
   "execution_count": null,
   "metadata": {
    "pycharm": {
     "name": "#%%\n"
    }
   },
   "outputs": [],
   "source": [
    "[\"a\", \"b\"] + [\"c\", \"d\"]"
   ]
  },
  {
   "cell_type": "code",
   "execution_count": null,
   "metadata": {
    "pycharm": {
     "name": "#%%\n"
    }
   },
   "outputs": [],
   "source": [
    "# dictionary\n",
    "\n",
    "values = {\"penny\": 0.01, \"nickle\": \"0.05\", \"dime\": \"0.10\", \"quarter\": 0.25, \"dollar\": \"1.00\"}\n",
    "print(values)\n",
    "print(values[\"dime\"])"
   ]
  },
  {
   "cell_type": "markdown",
   "metadata": {},
   "source": [
    "## Functions\n",
    "\n",
    "- functions take 0-n inputs and return an output\n",
    "- We call the inputs, parameters\n",
    "- functions must live above the code that calls it\n",
    "- If you don't return anything, Python will return `None`"
   ]
  },
  {
   "cell_type": "code",
   "execution_count": null,
   "metadata": {
    "pycharm": {
     "name": "#%%\n"
    }
   },
   "outputs": [],
   "source": [
    "def printSomething():\n",
    "    print(\"something\")\n",
    "\n",
    "def add(a,b):\n",
    "    return a + b\n",
    "\n",
    "a = 5\n",
    "b = 10\n",
    "c = add(a,b)\n",
    "print(c)\n",
    "print(something)"
   ]
  },
  {
   "cell_type": "markdown",
   "metadata": {},
   "source": [
    "### Built in functions"
   ]
  },
  {
   "cell_type": "code",
   "execution_count": null,
   "metadata": {
    "pycharm": {
     "name": "#%%\n"
    }
   },
   "outputs": [],
   "source": [
    "len([\"1\", \"2\", \"3\"])"
   ]
  },
  {
   "cell_type": "code",
   "execution_count": null,
   "metadata": {
    "pycharm": {
     "name": "#%%\n"
    }
   },
   "outputs": [],
   "source": [
    "type((1,2))"
   ]
  },
  {
   "cell_type": "code",
   "execution_count": null,
   "metadata": {
    "pycharm": {
     "name": "#%%\n"
    }
   },
   "outputs": [],
   "source": [
    "max(5,6)"
   ]
  },
  {
   "cell_type": "code",
   "execution_count": null,
   "metadata": {
    "pycharm": {
     "name": "#%%\n"
    }
   },
   "outputs": [],
   "source": [
    "max([1,2,3,4,99])"
   ]
  },
  {
   "cell_type": "code",
   "execution_count": null,
   "metadata": {
    "pycharm": {
     "name": "#%%\n"
    }
   },
   "outputs": [],
   "source": [
    "abs(-10)"
   ]
  },
  {
   "cell_type": "markdown",
   "metadata": {},
   "source": [
    "## User input\n",
    "\n",
    "- input()"
   ]
  },
  {
   "cell_type": "code",
   "execution_count": null,
   "metadata": {
    "pycharm": {
     "name": "#%%\n"
    }
   },
   "outputs": [],
   "source": [
    "input_string = input(\"input the number of avocados you wish to buy\")\n",
    "cost_avocado = 2.49\n",
    "input_number = int(input_string)\n",
    "\n",
    "if input_number <= 0:\n",
    "    print(\"Invalid number\")\n",
    "else:\n",
    "    print(\"Please pay $\", cost_avocado * input_number)"
   ]
  },
  {
   "cell_type": "markdown",
   "metadata": {},
   "source": [
    "## Imports\n",
    "\n",
    "- Many times, we need to use other functions, and code that is not provided built-in.\n",
    "- Python comes with many packages included, simply import them\n",
    "- Sometimes you may need to install packages with `pip`\n",
    "- `pip` is a package installer or python"
   ]
  },
  {
   "cell_type": "code",
   "execution_count": null,
   "metadata": {
    "pycharm": {
     "name": "#%%\n"
    }
   },
   "outputs": [],
   "source": [
    "import math\n",
    "print(math.sqrt(49))\n",
    "print(math.floor(5.1))"
   ]
  },
  {
   "cell_type": "code",
   "execution_count": null,
   "metadata": {
    "pycharm": {
     "name": "#%%\n"
    }
   },
   "outputs": [],
   "source": [
    "import matplotlib\n",
    "import matplotlib.pyplot as plt\n",
    "import numpy as np\n",
    "\n",
    "# Data for plotting\n",
    "t = np.arange(0.0, 2.0, 0.01)\n",
    "s = 1 + np.sin(2 * np.pi * t)\n",
    "\n",
    "fig, ax = plt.subplots()\n",
    "ax.plot(t, s)\n",
    "\n",
    "ax.set(xlabel='time (s)', ylabel='voltage (mV)',\n",
    "       title='Test Chart')\n",
    "ax.grid()\n",
    "\n",
    "plt.show()"
   ]
  },
  {
   "cell_type": "code",
   "execution_count": null,
   "metadata": {
    "pycharm": {
     "name": "#%%\n"
    }
   },
   "outputs": [],
   "source": [
    "import numpy as np\n",
    "import matplotlib.pyplot as plt\n",
    "\n",
    "\n",
    "x1 = np.linspace(0.0, 5.0)\n",
    "x2 = np.linspace(0.0, 2.0)\n",
    "\n",
    "y1 = np.cos(2 * np.pi * x1) * np.exp(-x1)\n",
    "y2 = np.cos(2 * np.pi * x2)\n",
    "\n",
    "plt.subplot(2, 1, 1)\n",
    "plt.plot(x1, y1, 'o-')\n",
    "plt.title('A tale of 2 subplots')\n",
    "plt.ylabel('Damped oscillation')\n",
    "\n",
    "plt.subplot(2, 1, 2)\n",
    "plt.plot(x2, y2, '.-')\n",
    "plt.xlabel('time (s)')\n",
    "plt.ylabel('Undamped')\n",
    "\n",
    "plt.show()"
   ]
  },
  {
   "cell_type": "markdown",
   "metadata": {},
   "source": [
    "## Loops\n",
    "\n",
    "- Use loops for repetitive tasks\n",
    "- Loops should be bounded within some range\n",
    "\n",
    "### Example of a Loop\n",
    "\n",
    "####  Equation\n",
    "\n",
    "$$ g = \\sum_{i=0}^{i=20}i*2$$\n",
    "\n",
    "\n",
    "#### Python Example\n",
    "\n",
    "```python\n",
    "g = 0;\n",
    "for i in range(0, 21):\n",
    "    g += 1 * 2\n",
    "\n",
    "```"
   ]
  },
  {
   "cell_type": "code",
   "execution_count": null,
   "metadata": {
    "pycharm": {
     "name": "#%%\n"
    }
   },
   "outputs": [],
   "source": [
    "for i in range(0,4):\n",
    "    print(i, \"hi!\")"
   ]
  },
  {
   "cell_type": "code",
   "execution_count": null,
   "metadata": {
    "pycharm": {
     "name": "#%%\n"
    }
   },
   "outputs": [],
   "source": [
    "numbers = [1, 2, 3, 4, 5, 6, 7, 8, 9, 10]\n",
    "\n",
    "# returns the number of even numbers in the given list\n",
    "def numEvens(numbers:list):\n",
    "    count = 0\n",
    "    for number in numbers:\n",
    "        if number % 2 == 0:\n",
    "            print(number)\n",
    "            count+=1\n",
    "    return count\n",
    "\n",
    "print(\"evens:\", numEvens(numbers))\n"
   ]
  },
  {
   "cell_type": "markdown",
   "metadata": {},
   "source": [
    "## Challenge\n",
    "\n",
    "### Challenge 1\n",
    "\n",
    "What does the following program print out?\n",
    "\n",
    "```python\n",
    "x = \"Bath\"\n",
    "y = \"George\"\n",
    "g = -10\n",
    "l = [0,2,4,10]\n",
    "\n",
    "if g > 20:\n",
    "    print(\"Joe\")\n",
    "else:\n",
    "    print(\"Farm\")\n",
    "if len(x) == 4:\n",
    "    print(\"Time\")\n",
    "for i in l:\n",
    "    if i > 2:\n",
    "        print(i)\n",
    "p = str(l[0] + l[1])\n",
    "print(len(p))\n",
    "```"
   ]
  },
  {
   "cell_type": "markdown",
   "metadata": {
    "pycharm": {
     "name": "#%% md\n"
    }
   },
   "source": []
  }
 ],
 "metadata": {
  "kernelspec": {
   "display_name": "Python 3",
   "language": "python",
   "name": "python3"
  },
  "language_info": {
   "codemirror_mode": {
    "name": "ipython",
    "version": 3
   },
   "file_extension": ".py",
   "mimetype": "text/x-python",
   "name": "python",
   "nbconvert_exporter": "python",
   "pygments_lexer": "ipython3",
   "version": "3.7.7"
  }
 },
 "nbformat": 4,
 "nbformat_minor": 1
}