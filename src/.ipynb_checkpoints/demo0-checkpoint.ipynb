{
 "cells": [
  {
   "cell_type": "markdown",
   "metadata": {
    "collapsed": true
   },
   "source": [
    "# Python Programming for Begginers Demo 0"
   ]
  },
  {
   "cell_type": "code",
   "execution_count": 1,
   "metadata": {},
   "outputs": [
    {
     "name": "stdout",
     "output_type": "stream",
     "text": [
      "Hello world!\n"
     ]
    }
   ],
   "source": [
    "print(\"Hello world!\")"
   ]
  },
  {
   "cell_type": "markdown",
   "metadata": {},
   "source": [
    "## Intro\n",
    "\n",
    "- Everyone can learn programming, it's never been easier.\n",
    "- This course is for those who want to use Python, practically starting day 1\n",
    "- This course is for begginers to programming.\n",
    "- Programming is creative\n",
    "    - Problem solving\n",
    "    - Many paths to the same place\n",
    "- Automate boring, repetitive tasks\n",
    "    - file naming\n",
    "    - spread sheets\n",
    "    - emails\n",
    "    - online form\n",
    "- Use a search engine, someone has probably had the same error\n",
    "    - Stackoverflow\n",
    "    - Github\n",
    "    \n",
    "## What is a program? \n",
    "    - Set(s) of instructions. Do this then do this. If this happens, then this. \n",
    "    - A program is made up of many algorithms\n",
    "    - Software is often made up of many different programs\n",
    "    - The lines between these can be blurry\n",
    "    \n",
    "## How does it work?\n",
    "    - Computer code is an abstraction of the underlying hardware, a fixed set of logical operations on 32 or 64 bit values (think 0s and 1s) within the CPU. Computer code is converted to machine code, which the electronics can interface on. \n",
    "    - Data is stored in the CPU, Memory (RAM), Hardisk, Network... each one being slower than the next\n",
    "    - Data is shuffled around from these locations, ultimately to the CPU to do some kind of processsing.. (add one, divide 2, goto this program, etc)\n",
    "\n",
    "   \n",
    "###  Example 1 - Driving to the mall from home\n",
    "1. Get money & car keys\n",
    "2. Leave house\n",
    "3. Unlock the car\n",
    "4. Open the car door\n",
    "5. Get in the driver's side seat of the car\n",
    "6. Put the keys in the ignition\n",
    "7. Turn the ignition\n",
    "8. Step your right foot on the brake\n",
    "9. While foot is on brake, shift transmission\n",
    "10. Accidentally reverse into the garage\n",
    "\n",
    "\n",
    "### Example 2 - Looking for someone in a grocery store\n",
    "\n",
    "- psudeocode\n",
    "\n",
    "```java\n",
    "while (parentNotFound) {\n",
    "    foreach (aisle in aisles) {\n",
    "        if (parentIsInAisle) {\n",
    "            walkTowardsParent();\n",
    "        }\n",
    "    }\n",
    "}\n",
    "```\n",
    "\n",
    "### Example 3\n",
    "\n",
    "#### Example 3.1 (Standard Equations)\n",
    "\n",
    "$$ g = \\sum_{i=0}^{i=20}i*2$$\n",
    "\n",
    "\n",
    "#### Example 3.2 (Java)\n",
    "\n",
    "```java\n",
    "int g = 0;\n",
    "for (int i = 0; i <= 20; i++) {\n",
    "    g += i * 2;\n",
    "}\n",
    "```\n",
    "\n",
    "#### Example 3.3 (Python)\n",
    "    \n",
    "```python\n",
    "g = 0;\n",
    "for i in range(0, 21):\n",
    "    g += 1 * 2\n",
    "\n",
    "```\n",
    "\n",
    "## Programming Languages\n",
    "\n",
    "## Download Python 3.8\n",
    "\n",
    "- Which version?\n",
    "- Python 3.X is the newest version. 2.X is no longer supported.\n",
    "\n",
    "### Windows\n",
    "\n",
    "- Download it and install\n",
    "\n",
    "http://python.org/\n",
    "    \n",
    "### MacOS\n",
    "\n",
    "- Mac has python2 installed already\n",
    "\n",
    "From your terminal...\n",
    "\n",
    "```bash\n",
    "$ /bin/bash -c \"$(curl -fsSL https://raw.githubusercontent.com/Homebrew/install/master/install.sh)\"\n",
    "$ brew install python3\n",
    "```\n",
    "\n",
    "### Ubuntu\n",
    "\n",
    "```bash\n",
    "$ sudo apt-get install python3\n",
    "```\n",
    "\n",
    "### Why Python?\n",
    "- Easy to read\n",
    "- \"Batteries included\"\n",
    "- Dynamic typing\n",
    "- The fastest growing programming language\n",
    "\n",
    "## Running Python\n",
    "\n",
    "- From your terminal (MacOS/Linux), or Command Prompt / Powershell (Windows)\n",
    "- This opens up the interactive terminal which evaluates inputs\n",
    "\n",
    "```bash\n",
    "$ python\n",
    ">>> \n",
    "``` \n",
    "\n",
    "Or run a python file\n",
    "\n",
    "```bash\n",
    "$ python file.py\n",
    "```\n",
    "\n",
    "### Programming environments\n",
    "- IDLE (installed with Python)\n",
    "- Text editors\n",
    "- Professional Integrated Development Environments (IDES), can be helpful (code-completion, one-click run, warnings and errors)\n",
    "   - PyCharm \n",
    "   - some obsure some important lessons about how code actually runs (terminals & environments)\n",
    "   - compute & ram intensive\n",
    "   \n",
    "### Online Interactive Python\n",
    "\n",
    "Try Python online without downloading\n",
    "\n",
    "https://repl.it/"
   ]
  },
  {
   "cell_type": "markdown",
   "metadata": {},
   "source": [
    "## Programming Basics\n",
    "\n",
    "### Statements, Printing, Comments\n",
    "\n",
    "- A statement is a line of code\n",
    "- Code is executed line-by-line\n",
    "- Printing will output to the screen / terminal\n",
    "- Comments are ignored by the program"
   ]
  },
  {
   "cell_type": "code",
   "execution_count": 17,
   "metadata": {},
   "outputs": [
    {
     "name": "stdout",
     "output_type": "stream",
     "text": [
      "I am a statement!\n",
      "I am also a statement!\n",
      "Player number: 1\n"
     ]
    },
    {
     "data": {
      "text/plain": [
       "'\\nI am a block comment \\n'"
      ]
     },
     "execution_count": 17,
     "metadata": {},
     "output_type": "execute_result"
    }
   ],
   "source": [
    "print(\"I am a statement!\")\n",
    "print('I am also a statement!') # I am a line comment\n",
    "print(\"Player number:\", 1)\n",
    "\n",
    "'''\n",
    "I am a block comment \n",
    "'''"
   ]
  },
  {
   "cell_type": "markdown",
   "metadata": {},
   "source": [
    "### Math Expressions & Evaulation\n",
    "\n",
    "- Like, math expressions."
   ]
  },
  {
   "cell_type": "code",
   "execution_count": 2,
   "metadata": {},
   "outputs": [
    {
     "data": {
      "text/plain": [
       "2"
      ]
     },
     "execution_count": 2,
     "metadata": {},
     "output_type": "execute_result"
    }
   ],
   "source": [
    "1 + 1"
   ]
  },
  {
   "cell_type": "code",
   "execution_count": 2,
   "metadata": {},
   "outputs": [
    {
     "data": {
      "text/plain": [
       "12"
      ]
     },
     "execution_count": 2,
     "metadata": {},
     "output_type": "execute_result"
    }
   ],
   "source": [
    "2 * 6"
   ]
  },
  {
   "cell_type": "code",
   "execution_count": 3,
   "metadata": {},
   "outputs": [
    {
     "data": {
      "text/plain": [
       "-5"
      ]
     },
     "execution_count": 3,
     "metadata": {},
     "output_type": "execute_result"
    }
   ],
   "source": [
    "5 - 10"
   ]
  },
  {
   "cell_type": "code",
   "execution_count": 7,
   "metadata": {},
   "outputs": [
    {
     "data": {
      "text/plain": [
       "7.0"
      ]
     },
     "execution_count": 7,
     "metadata": {},
     "output_type": "execute_result"
    }
   ],
   "source": [
    "(10 / 5) + (2.5 * 2) # PEMDAS"
   ]
  },
  {
   "cell_type": "code",
   "execution_count": 10,
   "metadata": {},
   "outputs": [
    {
     "data": {
      "text/plain": [
       "100"
      ]
     },
     "execution_count": 10,
     "metadata": {},
     "output_type": "execute_result"
    }
   ],
   "source": [
    "10 ** 2"
   ]
  },
  {
   "cell_type": "markdown",
   "metadata": {},
   "source": [
    "### Error Messages\n",
    "- In certain conditions, your program can crash and will print an error message\n",
    "    - Divide By Zero\n",
    "    - Type Errors\n",
    "    - Out of bounds\n",
    "    - Out of memory\n",
    "    - User defined\n",
    "- Some error messages are helpful than others. It helps to use a search engine."
   ]
  },
  {
   "cell_type": "code",
   "execution_count": 9,
   "metadata": {
    "scrolled": true
   },
   "outputs": [
    {
     "ename": "ZeroDivisionError",
     "evalue": "division by zero",
     "output_type": "error",
     "traceback": [
      "\u001b[0;31m---------------------------------------------------------------------------\u001b[0m",
      "\u001b[0;31mZeroDivisionError\u001b[0m                         Traceback (most recent call last)",
      "\u001b[0;32m<ipython-input-9-340e47a3b5ce>\u001b[0m in \u001b[0;36m<module>\u001b[0;34m\u001b[0m\n\u001b[0;32m----> 1\u001b[0;31m \u001b[0;36m8\u001b[0m \u001b[0;34m/\u001b[0m \u001b[0;36m0\u001b[0m\u001b[0;34m\u001b[0m\u001b[0;34m\u001b[0m\u001b[0m\n\u001b[0m",
      "\u001b[0;31mZeroDivisionError\u001b[0m: division by zero"
     ]
    }
   ],
   "source": [
    "8 / 0"
   ]
  },
  {
   "cell_type": "code",
   "execution_count": 18,
   "metadata": {},
   "outputs": [
    {
     "data": {
      "text/plain": [
       "True"
      ]
     },
     "execution_count": 18,
     "metadata": {},
     "output_type": "execute_result"
    }
   ],
   "source": [
    "1 == 1"
   ]
  },
  {
   "cell_type": "code",
   "execution_count": 1,
   "metadata": {},
   "outputs": [
    {
     "data": {
      "text/plain": [
       "False"
      ]
     },
     "execution_count": 1,
     "metadata": {},
     "output_type": "execute_result"
    }
   ],
   "source": [
    "1 == 0"
   ]
  },
  {
   "cell_type": "code",
   "execution_count": null,
   "metadata": {},
   "outputs": [],
   "source": [
    "\"Joe\" == \"Joe\""
   ]
  },
  {
   "cell_type": "markdown",
   "metadata": {},
   "source": [
    "## Variables\n",
    "\n",
    "- Assign variables to values or expressions\n",
    "- variable name must start with a character from a-z or A-Z (may not be a number, special character)\n",
    "- do not use special keywords (True, False, with, type, print, List, Dict, import, is, not)"
   ]
  },
  {
   "cell_type": "code",
   "execution_count": 11,
   "metadata": {},
   "outputs": [
    {
     "data": {
      "text/plain": [
       "1"
      ]
     },
     "execution_count": 11,
     "metadata": {},
     "output_type": "execute_result"
    }
   ],
   "source": [
    "x = 0\n",
    "y = 1\n",
    "x + y"
   ]
  },
  {
   "cell_type": "code",
   "execution_count": 2,
   "metadata": {},
   "outputs": [
    {
     "name": "stdout",
     "output_type": "stream",
     "text": [
      "Biggie Smalls\n",
      "Ghostface Killa\n"
     ]
    }
   ],
   "source": [
    "first_name = \"Biggie\"\n",
    "last_name = \"Smalls\"\n",
    "full_name = first_name + \" \" + last_name # string concatenation\n",
    "print(full_name)\n",
    "\n",
    "full_name = \"Ghostface Killa\"\n",
    "print(full_name)"
   ]
  },
  {
   "cell_type": "markdown",
   "metadata": {},
   "source": [
    "## Basic Data Types\n",
    "\n",
    "### String  `\"string\"`, `'string'`\n",
    "- Integer  `1`, `2`, `3`\n",
    "- Float    `5.4`,\n",
    "- Boolean  `True`,`False`\n",
    "- List     `[1,2,3,4]`, `[\"amy\", \"sarah\", \"lily\"]`\n",
    "- Dictionary `{apple: 1, pear: 2, lime: 7}`\n",
    "- None"
   ]
  },
  {
   "cell_type": "code",
   "execution_count": 16,
   "metadata": {},
   "outputs": [
    {
     "name": "stdout",
     "output_type": "stream",
     "text": [
      "<class 'str'>\n",
      "<class 'str'>\n",
      "<class 'int'>\n"
     ]
    }
   ],
   "source": [
    "# strings\n",
    "print(type(\"hello world\"))\n",
    "address:str = \"102 49th street\"\n",
    "print(type(address))\n"
   ]
  },
  {
   "cell_type": "code",
   "execution_count": null,
   "metadata": {},
   "outputs": [],
   "source": [
    "# integers\n",
    "print(type(10))"
   ]
  },
  {
   "cell_type": "code",
   "execution_count": 26,
   "metadata": {},
   "outputs": [
    {
     "name": "stdout",
     "output_type": "stream",
     "text": [
      "<class 'float'>\n",
      "9.5\n",
      "0.0005\n",
      "2.0\n"
     ]
    }
   ],
   "source": [
    "# Float\n",
    "print(type(5.0))\n",
    "print(5.0 + 4.5)\n",
    "print(0.001 / 2)\n",
    "print(1 + 1.0)"
   ]
  },
  {
   "cell_type": "code",
   "execution_count": 17,
   "metadata": {},
   "outputs": [
    {
     "name": "stdout",
     "output_type": "stream",
     "text": [
      "zzzz\n"
     ]
    }
   ],
   "source": [
    "# booleans\n",
    "isAsleep = True\n",
    "\n",
    "if isAsleep:\n",
    "    print(\"zzzz\")"
   ]
  },
  {
   "cell_type": "code",
   "execution_count": 27,
   "metadata": {},
   "outputs": [
    {
     "name": "stdout",
     "output_type": "stream",
     "text": [
      "happiness\n",
      "5\n"
     ]
    }
   ],
   "source": [
    "# lists\n",
    "\n",
    "emotions = [\"fear\", \"happiness\", \"anger\", \"envy\", \"sadness\"]\n",
    "\n",
    "print(emotions[1]) # indexing 1-th element\n",
    "print(len(emotions))"
   ]
  },
  {
   "cell_type": "code",
   "execution_count": 29,
   "metadata": {},
   "outputs": [
    {
     "name": "stdout",
     "output_type": "stream",
     "text": [
      "{'penny': 0.01, 'nickle': '0.05', 'dime': '0.10', 'quarter': 0.25, 'dollar': '1.00'}\n",
      "0.10\n"
     ]
    }
   ],
   "source": [
    "# dictionary\n",
    "\n",
    "values = {\"penny\": 0.01, \"nickle\": \"0.05\", \"dime\": \"0.10\", \"quarter\": 0.25, \"dollar\": \"1.00\"}\n",
    "print(values)\n",
    "print(values[\"dime\"])"
   ]
  },
  {
   "cell_type": "code",
   "execution_count": 6,
   "metadata": {},
   "outputs": [
    {
     "ename": "TypeError",
     "evalue": "unsupported operand type(s) for +: 'int' and 'str'",
     "output_type": "error",
     "traceback": [
      "\u001b[0;31m---------------------------------------------------------------------------\u001b[0m",
      "\u001b[0;31mTypeError\u001b[0m                                 Traceback (most recent call last)",
      "\u001b[0;32m<ipython-input-6-db092cb74d2d>\u001b[0m in \u001b[0;36m<module>\u001b[0;34m\u001b[0m\n\u001b[0;32m----> 1\u001b[0;31m \u001b[0;36m1\u001b[0m \u001b[0;34m+\u001b[0m \u001b[0;34m\"2\"\u001b[0m\u001b[0;34m\u001b[0m\u001b[0;34m\u001b[0m\u001b[0m\n\u001b[0m",
      "\u001b[0;31mTypeError\u001b[0m: unsupported operand type(s) for +: 'int' and 'str'"
     ]
    }
   ],
   "source": [
    "# Mixing data types can crash your program or cause unexpected behavior\n",
    "1 + \"2\""
   ]
  },
  {
   "cell_type": "markdown",
   "metadata": {},
   "source": [
    "### Type Casting\n",
    "- Types can often be converted to other types in Python"
   ]
  },
  {
   "cell_type": "code",
   "execution_count": 33,
   "metadata": {},
   "outputs": [
    {
     "name": "stdout",
     "output_type": "stream",
     "text": [
      "1\n",
      "1 2\n"
     ]
    }
   ],
   "source": [
    "number = 1\n",
    "print(number)\n",
    "string = str(number) + \" 2\"\n",
    "print(string)"
   ]
  },
  {
   "cell_type": "code",
   "execution_count": 36,
   "metadata": {},
   "outputs": [
    {
     "data": {
      "text/plain": [
       "10"
      ]
     },
     "execution_count": 36,
     "metadata": {},
     "output_type": "execute_result"
    }
   ],
   "source": [
    "int(\"5\") + 5"
   ]
  },
  {
   "cell_type": "code",
   "execution_count": 35,
   "metadata": {},
   "outputs": [
    {
     "data": {
      "text/plain": [
       "\"['test']\""
      ]
     },
     "execution_count": 35,
     "metadata": {},
     "output_type": "execute_result"
    }
   ],
   "source": [
    "str([\"list\"])"
   ]
  },
  {
   "cell_type": "markdown",
   "metadata": {},
   "source": [
    "## Conditionals\n",
    "\n",
    "- Running different blocks of code based on boolean values"
   ]
  },
  {
   "cell_type": "code",
   "execution_count": 30,
   "metadata": {},
   "outputs": [
    {
     "name": "stdout",
     "output_type": "stream",
     "text": [
      "foo\n"
     ]
    }
   ],
   "source": [
    "if (20 > 10):\n",
    "    print(\"foo\")\n",
    "else:\n",
    "    print(\"bar\")"
   ]
  },
  {
   "cell_type": "code",
   "execution_count": null,
   "metadata": {},
   "outputs": [],
   "source": [
    "if True:\n",
    "    print(\"hello\")\n",
    "if not False:\n",
    "    print(\"world\")"
   ]
  },
  {
   "cell_type": "code",
   "execution_count": 31,
   "metadata": {},
   "outputs": [
    {
     "name": "stdout",
     "output_type": "stream",
     "text": [
      "foobar\n"
     ]
    }
   ],
   "source": [
    "if True or False:\n",
    "    print(\"foobar\")\n",
    "else:\n",
    "    print(\"barfoo\")"
   ]
  },
  {
   "cell_type": "code",
   "execution_count": null,
   "metadata": {},
   "outputs": [],
   "source": [
    "if 10 / 5 == 2:\n",
    "    print(\"fizz\")"
   ]
  },
  {
   "cell_type": "code",
   "execution_count": null,
   "metadata": {},
   "outputs": [],
   "source": [
    "x = True\n",
    "y = False\n",
    "if not x:\n",
    "    print(x)\n",
    "elif y is False:\n",
    "    print(y)\n",
    "else:\n",
    "    print(\"1\")"
   ]
  },
  {
   "cell_type": "code",
   "execution_count": null,
   "metadata": {},
   "outputs": [],
   "source": [
    "# This is the same as above\n",
    "x = True\n",
    "y = False\n",
    "if !x:\n",
    "    print(x)\n",
    "elif y == False:\n",
    "    print(y)\n",
    "else:\n",
    "    print(\"1\")"
   ]
  },
  {
   "cell_type": "markdown",
   "metadata": {},
   "source": [
    "## Functions\n",
    "\n",
    "- functions take 0-n inputs and return an output\n",
    "- If you don't return anything, Python will return `None`"
   ]
  },
  {
   "cell_type": "code",
   "execution_count": null,
   "metadata": {},
   "outputs": [],
   "source": [
    "def add(a,b):\n",
    "    return a + b\n",
    "\n",
    "a = 5\n",
    "b = 10\n",
    "c = add(a,b)\n",
    "print(c)"
   ]
  },
  {
   "cell_type": "markdown",
   "metadata": {},
   "source": [
    "### Built in functions"
   ]
  },
  {
   "cell_type": "code",
   "execution_count": 39,
   "metadata": {},
   "outputs": [
    {
     "data": {
      "text/plain": [
       "6"
      ]
     },
     "execution_count": 39,
     "metadata": {},
     "output_type": "execute_result"
    }
   ],
   "source": [
    "len(\"cowboy\")"
   ]
  },
  {
   "cell_type": "code",
   "execution_count": 40,
   "metadata": {},
   "outputs": [
    {
     "data": {
      "text/plain": [
       "3"
      ]
     },
     "execution_count": 40,
     "metadata": {},
     "output_type": "execute_result"
    }
   ],
   "source": [
    "len([\"1\", \"2\", \"3\"])"
   ]
  },
  {
   "cell_type": "code",
   "execution_count": 41,
   "metadata": {},
   "outputs": [
    {
     "data": {
      "text/plain": [
       "tuple"
      ]
     },
     "execution_count": 41,
     "metadata": {},
     "output_type": "execute_result"
    }
   ],
   "source": [
    "type((1,2))"
   ]
  },
  {
   "cell_type": "code",
   "execution_count": 44,
   "metadata": {},
   "outputs": [
    {
     "data": {
      "text/plain": [
       "6"
      ]
     },
     "execution_count": 44,
     "metadata": {},
     "output_type": "execute_result"
    }
   ],
   "source": [
    "max(5,6)"
   ]
  },
  {
   "cell_type": "code",
   "execution_count": 45,
   "metadata": {},
   "outputs": [
    {
     "data": {
      "text/plain": [
       "10"
      ]
     },
     "execution_count": 45,
     "metadata": {},
     "output_type": "execute_result"
    }
   ],
   "source": [
    "abs(-10)"
   ]
  },
  {
   "cell_type": "markdown",
   "metadata": {},
   "source": [
    "## User input\n",
    "\n",
    "- input()"
   ]
  },
  {
   "cell_type": "code",
   "execution_count": 38,
   "metadata": {},
   "outputs": [
    {
     "name": "stdout",
     "output_type": "stream",
     "text": [
      "input the number of avocados you wish to buy20\n",
      "Please pay $ 49.800000000000004\n"
     ]
    }
   ],
   "source": [
    "input_string = input(\"input the number of avocados you wish to buy\")\n",
    "cost_avocado = 2.49\n",
    "input_number = int(input_string)\n",
    "\n",
    "if input_number <= 0:\n",
    "    print(\"Invalid number\")\n",
    "else:\n",
    "    print(\"Please pay $\", cost_avocado * input_number)"
   ]
  },
  {
   "cell_type": "markdown",
   "metadata": {},
   "source": [
    "## Questions?"
   ]
  },
  {
   "cell_type": "markdown",
   "metadata": {},
   "source": [
    "## Feedback\n",
    "\n",
    "1. What was done well?\n",
    "2. What could have been done better?\n",
    "3. Would you attend another session? (Y/N)\n",
    "\n",
    "Email me, or submit feedback at https://nlouie.com/courses"
   ]
  }
 ],
 "metadata": {
  "kernelspec": {
   "display_name": "Python 3",
   "language": "python",
   "name": "python3"
  },
  "language_info": {
   "codemirror_mode": {
    "name": "ipython",
    "version": 3
   },
   "file_extension": ".py",
   "mimetype": "text/x-python",
   "name": "python",
   "nbconvert_exporter": "python",
   "pygments_lexer": "ipython3",
   "version": "3.7.7"
  }
 },
 "nbformat": 4,
 "nbformat_minor": 1
}
