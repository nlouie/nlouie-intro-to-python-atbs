{
 "cells": [
  {
   "cell_type": "markdown",
   "metadata": {
    "collapsed": true
   },
   "source": [
    "# Python Programming for Begginers Demo 0"
   ]
  },
  {
   "cell_type": "code",
   "execution_count": 46,
   "metadata": {},
   "outputs": [
    {
     "name": "stdout",
     "output_type": "stream",
     "text": [
      "Hello world!\n"
     ]
    }
   ],
   "source": [
    "print(\"Hello world!\")"
   ]
  },
  {
   "cell_type": "markdown",
   "metadata": {},
   "source": [
    "## Intro\n",
    "\n",
    "- Everyone can learn programming, it's never been easier.\n",
    "- This course is for those who want to use Python, practically starting day 1\n",
    "- This course is for begginers to programming.\n",
    "- Programming is creative\n",
    "    - Problem solving\n",
    "    - Many paths to the same place\n",
    "- Automate boring, repetitive tasks\n",
    "    - file naming\n",
    "    - spread sheets\n",
    "    - emails\n",
    "    - online form\n",
    "- Use a search engine, someone has probably had the same error\n",
    "    - Stackoverflow\n",
    "    - Github\n",
    "    \n",
    "## What is a program? \n",
    "    - Set(s) of instructions. Do this then do this. If this happens, then this. \n",
    "    - A program is made up of many algorithms\n",
    "    - Software is often made up of many different programs\n",
    "    - The lines between these can be blurry\n",
    "    \n",
    "## How does it work?\n",
    "    - Computer code is an abstraction of the underlying hardware, a fixed set of logical operations on 32 or 64 bit values (think 0s and 1s) within the CPU. Computer code is converted to machine code, which the electronics can interface on. \n",
    "    - Data is stored in the CPU, Memory (RAM), Hardisk, Network... each one being slower than the next\n",
    "    - Data is shuffled around from these locations, ultimately to the CPU to do some kind of processsing.. (add one, divide 2, goto this program, etc)\n",
    "\n",
    "   \n",
    "###  Example 1 - Driving to the mall from home\n",
    "1. Get money & car keys\n",
    "2. Leave house\n",
    "3. Unlock the car\n",
    "4. Open the car door\n",
    "5. Get in the driver's side seat of the car\n",
    "6. Put the keys in the ignition\n",
    "7. Turn the ignition\n",
    "8. Step your right foot on the brake\n",
    "9. While foot is on brake, shift transmission\n",
    "10. Accidentally reverse into the garage\n",
    "\n",
    "\n",
    "### Example 2 - Looking for someone in a grocery store\n",
    "\n",
    "- psudeocode\n",
    "\n",
    "```java\n",
    "while (parentNotFound) {\n",
    "    foreach (aisle in aisles) {\n",
    "        if (parentIsInAisle) {\n",
    "            walkTowardsParent();\n",
    "        }\n",
    "    }\n",
    "}\n",
    "```\n",
    "\n",
    "### Example 3\n",
    "\n",
    "#### Example 3.1 (Standard Equations)\n",
    "\n",
    "$$ g = \\sum_{i=0}^{i=20}i*2$$\n",
    "\n",
    "\n",
    "#### Example 3.2 (Java)\n",
    "\n",
    "```java\n",
    "int g = 0;\n",
    "for (int i = 0; i <= 20; i++) {\n",
    "    g += i * 2;\n",
    "}\n",
    "```\n",
    "\n",
    "#### Example 3.3 (Python)\n",
    "    \n",
    "```python\n",
    "g = 0;\n",
    "for i in range(0, 21):\n",
    "    g += 1 * 2\n",
    "\n",
    "```\n",
    "\n",
    "## Programming Languages\n",
    "\n",
    "## Download Python 3.8\n",
    "\n",
    "- Which version?\n",
    "- Python 3.X is the newest version. 2.X is no longer supported.\n",
    "\n",
    "### Windows\n",
    "\n",
    "- Download it and install\n",
    "\n",
    "http://python.org/\n",
    "    \n",
    "### MacOS\n",
    "\n",
    "- Mac has python2 installed already\n",
    "\n",
    "From your terminal...\n",
    "\n",
    "```bash\n",
    "$ /bin/bash -c \"$(curl -fsSL https://raw.githubusercontent.com/Homebrew/install/master/install.sh)\"\n",
    "$ brew install python3\n",
    "```\n",
    "\n",
    "### Ubuntu\n",
    "\n",
    "```bash\n",
    "$ sudo apt-get install python3\n",
    "```\n",
    "\n",
    "### Why Python?\n",
    "- Easy to read\n",
    "- \"Batteries included\"\n",
    "- Dynamic typing\n",
    "- The fastest growing programming language\n",
    "\n",
    "## Running Python\n",
    "\n",
    "- From your terminal (MacOS/Linux), or Command Prompt / Powershell (Windows)\n",
    "- This opens up the interactive terminal which evaluates inputs\n",
    "\n",
    "```bash\n",
    "$ python\n",
    ">>> \n",
    "``` \n",
    "\n",
    "Or run a python file\n",
    "\n",
    "```bash\n",
    "$ python file.py\n",
    "```\n",
    "\n",
    "### Programming environments\n",
    "- IDLE (installed with Python)\n",
    "- Text editors\n",
    "- Professional Integrated Development Environments (IDES), can be helpful (code-completion, one-click run, warnings and errors)\n",
    "   - PyCharm \n",
    "   - some obsure some important lessons about how code actually runs (terminals & environments)\n",
    "   - compute & ram intensive\n",
    "   \n",
    "### Online Interactive Python\n",
    "\n",
    "Try Python online without downloading\n",
    "\n",
    "https://repl.it/"
   ]
  },
  {
   "cell_type": "markdown",
   "metadata": {},
   "source": [
    "## Programming Basics\n",
    "\n",
    "### Statements, Printing, Comments\n",
    "\n",
    "- A statement is a line of code\n",
    "- Code is executed line-by-line\n",
    "- Printing will output to the screen / terminal\n",
    "- Comments are ignored by the program"
   ]
  },
  {
   "cell_type": "code",
   "execution_count": 47,
   "metadata": {},
   "outputs": [
    {
     "name": "stdout",
     "output_type": "stream",
     "text": [
      "I am a statement!\n",
      "I am also a statement!\n",
      "Player number: 1\n"
     ]
    },
    {
     "data": {
      "text/plain": [
       "'\\nI am a block comment \\n'"
      ]
     },
     "execution_count": 47,
     "metadata": {},
     "output_type": "execute_result"
    }
   ],
   "source": [
    "print(\"I am a statement!\")\n",
    "print('I am also a statement!') # I am a line comment\n",
    "print(\"Player number:\", 1)\n",
    "\n",
    "'''\n",
    "I am a block comment \n",
    "'''"
   ]
  },
  {
   "cell_type": "markdown",
   "metadata": {},
   "source": [
    "### Math Expressions & Evaulation\n",
    "\n",
    "- Like, math expressions."
   ]
  },
  {
   "cell_type": "code",
   "execution_count": 48,
   "metadata": {},
   "outputs": [
    {
     "data": {
      "text/plain": [
       "2"
      ]
     },
     "execution_count": 48,
     "metadata": {},
     "output_type": "execute_result"
    }
   ],
   "source": [
    "1 + 1"
   ]
  },
  {
   "cell_type": "code",
   "execution_count": 49,
   "metadata": {},
   "outputs": [
    {
     "data": {
      "text/plain": [
       "12"
      ]
     },
     "execution_count": 49,
     "metadata": {},
     "output_type": "execute_result"
    }
   ],
   "source": [
    "2 * 6"
   ]
  },
  {
   "cell_type": "code",
   "execution_count": 50,
   "metadata": {},
   "outputs": [
    {
     "data": {
      "text/plain": [
       "-5"
      ]
     },
     "execution_count": 50,
     "metadata": {},
     "output_type": "execute_result"
    }
   ],
   "source": [
    "5 - 10"
   ]
  },
  {
   "cell_type": "code",
   "execution_count": 51,
   "metadata": {},
   "outputs": [
    {
     "data": {
      "text/plain": [
       "7.0"
      ]
     },
     "execution_count": 51,
     "metadata": {},
     "output_type": "execute_result"
    }
   ],
   "source": [
    "(10 / 5) + (2.5 * 2) # PEMDAS"
   ]
  },
  {
   "cell_type": "code",
   "execution_count": 52,
   "metadata": {},
   "outputs": [
    {
     "data": {
      "text/plain": [
       "100"
      ]
     },
     "execution_count": 52,
     "metadata": {},
     "output_type": "execute_result"
    }
   ],
   "source": [
    "10 ** 2"
   ]
  },
  {
   "cell_type": "markdown",
   "metadata": {},
   "source": [
    "### Error Messages\n",
    "- In certain conditions, your program can crash and will print an error message\n",
    "    - Divide By Zero\n",
    "    - Type Errors\n",
    "    - Out of bounds\n",
    "    - Out of memory\n",
    "    - User defined\n",
    "- Some error messages are helpful than others. It helps to use a search engine."
   ]
  },
  {
   "cell_type": "code",
   "execution_count": 53,
   "metadata": {
    "scrolled": true
   },
   "outputs": [
    {
     "ename": "ZeroDivisionError",
     "evalue": "division by zero",
     "output_type": "error",
     "traceback": [
      "\u001b[0;31m---------------------------------------------------------------------------\u001b[0m",
      "\u001b[0;31mZeroDivisionError\u001b[0m                         Traceback (most recent call last)",
      "\u001b[0;32m<ipython-input-53-340e47a3b5ce>\u001b[0m in \u001b[0;36m<module>\u001b[0;34m\u001b[0m\n\u001b[0;32m----> 1\u001b[0;31m \u001b[0;36m8\u001b[0m \u001b[0;34m/\u001b[0m \u001b[0;36m0\u001b[0m\u001b[0;34m\u001b[0m\u001b[0;34m\u001b[0m\u001b[0m\n\u001b[0m",
      "\u001b[0;31mZeroDivisionError\u001b[0m: division by zero"
     ]
    }
   ],
   "source": [
    "8 / 0"
   ]
  },
  {
   "cell_type": "code",
   "execution_count": null,
   "metadata": {},
   "outputs": [],
   "source": [
    "1 == 1"
   ]
  },
  {
   "cell_type": "code",
   "execution_count": null,
   "metadata": {},
   "outputs": [],
   "source": [
    "1 == 0"
   ]
  },
  {
   "cell_type": "code",
   "execution_count": null,
   "metadata": {},
   "outputs": [],
   "source": [
    "\"Joe\" == \"Joe\""
   ]
  },
  {
   "cell_type": "markdown",
   "metadata": {},
   "source": [
    "## Variables\n",
    "\n",
    "- Assign variables to values or expressions\n",
    "- variable name must start with a character from a-z or A-Z, or _ (may not be a number, special character)\n",
    "- do not use special keywords (True, False, with, type, print, List, Dict, import, is, not, finally..)\n",
    "    - look up python \"built-in\" types for a full list"
   ]
  },
  {
   "cell_type": "code",
   "execution_count": null,
   "metadata": {},
   "outputs": [],
   "source": [
    "x = 0\n",
    "y = 1\n",
    "x + y"
   ]
  },
  {
   "cell_type": "code",
   "execution_count": null,
   "metadata": {},
   "outputs": [],
   "source": [
    "x = 0\n",
    "print(x)\n",
    "x+=1 # increment by 1\n",
    "print(x)\n",
    "y = 2\n",
    "x+=y # add itself to y, equivalent to x = x + y"
   ]
  },
  {
   "cell_type": "code",
   "execution_count": null,
   "metadata": {},
   "outputs": [],
   "source": [
    "first_name = \"Biggie\"\n",
    "last_name = \"Smalls\"\n",
    "full_name = first_name + \" \" + last_name # string concatenation\n",
    "print(full_name)\n",
    "\n",
    "full_name = \"Ghostface Killa\"\n",
    "print(full_name)"
   ]
  },
  {
   "cell_type": "markdown",
   "metadata": {},
   "source": [
    "## Basic Data Types\n",
    "\n",
    "### String  `\"string\"`, `'string'`\n",
    "- Integer  `1`, `2`, `3`\n",
    "- Float    `5.4`,\n",
    "- Boolean  `True`,`False`\n",
    "- List     `[1,2,3,4]`, `[\"amy\", \"sarah\", \"lily\"]`\n",
    "- Dictionary `{apple: 1, pear: 2, lime: 7}`\n",
    "- None"
   ]
  },
  {
   "cell_type": "code",
   "execution_count": null,
   "metadata": {},
   "outputs": [],
   "source": [
    "# strings\n",
    "print(type(\"hello world\"))\n",
    "address:str = \"102 49th street\"\n",
    "print(type(address))"
   ]
  },
  {
   "cell_type": "code",
   "execution_count": null,
   "metadata": {},
   "outputs": [],
   "source": [
    "print(\"bob's truck\")\n",
    "print('bob\\'s truck')"
   ]
  },
  {
   "cell_type": "code",
   "execution_count": null,
   "metadata": {},
   "outputs": [],
   "source": [
    "# integers\n",
    "print(type(10))"
   ]
  },
  {
   "cell_type": "code",
   "execution_count": null,
   "metadata": {},
   "outputs": [],
   "source": [
    "# Float\n",
    "print(type(5.0))\n",
    "print(5.0 + 4.5)\n",
    "print(0.001 / 2)\n",
    "print(1 + 1.0)"
   ]
  },
  {
   "cell_type": "code",
   "execution_count": null,
   "metadata": {},
   "outputs": [],
   "source": [
    "# booleans (0,1)\n",
    "isAsleep = True\n",
    "isAwake = False\n",
    "\n",
    "if isAsleep:\n",
    "    print(\"zzzz\")"
   ]
  },
  {
   "cell_type": "code",
   "execution_count": null,
   "metadata": {},
   "outputs": [],
   "source": [
    "# lists\n",
    "\n",
    "emotions = [\"fear\", \"happiness\", \"anger\", \"envy\", \"sadness\"]\n",
    "\n",
    "# indexes start at 0, 1, 2,...n-1\n",
    "print(emotions[1]) # indexing 1-th element\n",
    "print(len(emotions))"
   ]
  },
  {
   "cell_type": "code",
   "execution_count": null,
   "metadata": {},
   "outputs": [],
   "source": [
    "[\"a\", \"b\"] + [\"c\", \"d\"]"
   ]
  },
  {
   "cell_type": "code",
   "execution_count": null,
   "metadata": {},
   "outputs": [],
   "source": [
    "# dictionary\n",
    "\n",
    "values = {\"penny\": 0.01, \"nickle\": \"0.05\", \"dime\": \"0.10\", \"quarter\": 0.25, \"dollar\": \"1.00\"}\n",
    "print(values)\n",
    "print(values[\"dime\"])"
   ]
  },
  {
   "cell_type": "code",
   "execution_count": null,
   "metadata": {},
   "outputs": [],
   "source": [
    "# Mixing data types can crash your program or cause unexpected behavior\n",
    "1 + \"2\""
   ]
  },
  {
   "cell_type": "markdown",
   "metadata": {},
   "source": [
    "### Type Casting\n",
    "- Types can often be converted to other types in Python"
   ]
  },
  {
   "cell_type": "code",
   "execution_count": null,
   "metadata": {},
   "outputs": [],
   "source": [
    "number = 1\n",
    "print(number)\n",
    "string = str(number) + \" 2\"\n",
    "print(string)"
   ]
  },
  {
   "cell_type": "code",
   "execution_count": null,
   "metadata": {},
   "outputs": [],
   "source": [
    "int(\"5\") + 5"
   ]
  },
  {
   "cell_type": "code",
   "execution_count": null,
   "metadata": {},
   "outputs": [],
   "source": [
    "str([\"list\"])"
   ]
  },
  {
   "cell_type": "markdown",
   "metadata": {},
   "source": [
    "## Conditionals & Control Flow\n",
    "\n",
    "- Running different blocks of code based on boolean values\n",
    "- We can determine which parts of code to run, and which to not run"
   ]
  },
  {
   "cell_type": "code",
   "execution_count": null,
   "metadata": {},
   "outputs": [],
   "source": [
    "if (20 > 10):\n",
    "    print(\"foo\")\n",
    "else:\n",
    "    print(\"bar\")"
   ]
  },
  {
   "cell_type": "code",
   "execution_count": null,
   "metadata": {},
   "outputs": [],
   "source": [
    "if True:\n",
    "    print(\"hello\")\n",
    "if not False:\n",
    "    print(\"world\")"
   ]
  },
  {
   "cell_type": "code",
   "execution_count": null,
   "metadata": {},
   "outputs": [],
   "source": [
    "if True or False:\n",
    "    print(\"foobar\")\n",
    "else:\n",
    "    print(\"barfoo\")"
   ]
  },
  {
   "cell_type": "code",
   "execution_count": null,
   "metadata": {},
   "outputs": [],
   "source": [
    "if 10 / 5 == 2:\n",
    "    print(\"fizz\")"
   ]
  },
  {
   "cell_type": "code",
   "execution_count": null,
   "metadata": {},
   "outputs": [],
   "source": [
    "x = True\n",
    "y = False\n",
    "if not x:\n",
    "    print(x)\n",
    "elif y is False:\n",
    "    print(y)\n",
    "else:\n",
    "    print(\"1\")"
   ]
  },
  {
   "cell_type": "markdown",
   "metadata": {},
   "source": [
    "## Functions\n",
    "\n",
    "- functions take 0-n inputs and return an output\n",
    "- We call the inputs, parameters\n",
    "- functions must live above the code that calls it\n",
    "- If you don't return anything, Python will return `None`"
   ]
  },
  {
   "cell_type": "code",
   "execution_count": null,
   "metadata": {},
   "outputs": [],
   "source": [
    "def printSomething():\n",
    "    print(\"something\")\n",
    "\n",
    "def add(a,b):\n",
    "    return a + b\n",
    "\n",
    "a = 5\n",
    "b = 10\n",
    "c = add(a,b)\n",
    "print(c)\n",
    "print(something)"
   ]
  },
  {
   "cell_type": "markdown",
   "metadata": {},
   "source": [
    "### Built in functions"
   ]
  },
  {
   "cell_type": "code",
   "execution_count": null,
   "metadata": {},
   "outputs": [],
   "source": [
    "len(\"cowboy\")"
   ]
  },
  {
   "cell_type": "code",
   "execution_count": null,
   "metadata": {},
   "outputs": [],
   "source": [
    "len([\"1\", \"2\", \"3\"])"
   ]
  },
  {
   "cell_type": "code",
   "execution_count": null,
   "metadata": {},
   "outputs": [],
   "source": [
    "type((1,2))"
   ]
  },
  {
   "cell_type": "code",
   "execution_count": null,
   "metadata": {},
   "outputs": [],
   "source": [
    "max(5,6)"
   ]
  },
  {
   "cell_type": "code",
   "execution_count": null,
   "metadata": {},
   "outputs": [],
   "source": [
    "max([1,2,3,4,99])"
   ]
  },
  {
   "cell_type": "code",
   "execution_count": null,
   "metadata": {},
   "outputs": [],
   "source": [
    "abs(-10)"
   ]
  },
  {
   "cell_type": "markdown",
   "metadata": {},
   "source": [
    "## User input\n",
    "\n",
    "- input()"
   ]
  },
  {
   "cell_type": "code",
   "execution_count": null,
   "metadata": {},
   "outputs": [],
   "source": [
    "input_string = input(\"input the number of avocados you wish to buy\")\n",
    "cost_avocado = 2.49\n",
    "input_number = int(input_string)\n",
    "\n",
    "if input_number <= 0:\n",
    "    print(\"Invalid number\")\n",
    "else:\n",
    "    print(\"Please pay $\", cost_avocado * input_number)"
   ]
  },
  {
   "cell_type": "markdown",
   "metadata": {},
   "source": [
    "## Imports\n",
    "\n",
    "- Many times, we need to use other functions, and code that is not provided built-in.\n",
    "- Python comes with many packages included, simply import them\n",
    "- Sometimes you may need to install packages with `pip`\n",
    "- `pip` is a package installer or python"
   ]
  },
  {
   "cell_type": "code",
   "execution_count": 57,
   "metadata": {},
   "outputs": [
    {
     "name": "stdout",
     "output_type": "stream",
     "text": [
      "7.0\n",
      "5\n"
     ]
    }
   ],
   "source": [
    "import math\n",
    "print(math.sqrt(49))\n",
    "print(math.floor(5.1))"
   ]
  },
  {
   "cell_type": "code",
   "execution_count": 61,
   "metadata": {},
   "outputs": [
    {
     "data": {
      "image/png": "[encoded data removed]",
      "text/plain": [
       "<Figure size 432x288 with 1 Axes>"
      ]
     },
     "metadata": {
      "needs_background": "light"
     },
     "output_type": "display_data"
    }
   ],
   "source": [
    "import matplotlib\n",
    "import matplotlib.pyplot as plt\n",
    "import numpy as np\n",
    "\n",
    "# Data for plotting\n",
    "t = np.arange(0.0, 2.0, 0.01)\n",
    "s = 1 + np.sin(2 * np.pi * t)\n",
    "\n",
    "fig, ax = plt.subplots()\n",
    "ax.plot(t, s)\n",
    "\n",
    "ax.set(xlabel='time (s)', ylabel='voltage (mV)',\n",
    "       title='Test Chart')\n",
    "ax.grid()\n",
    "\n",
    "plt.show()"
   ]
  },
  {
   "cell_type": "code",
   "execution_count": 62,
   "metadata": {},
   "outputs": [
    {
     "data": {
      "image/png": "[encoded data removed]",
      "text/plain": [
       "<Figure size 432x288 with 2 Axes>"
      ]
     },
     "metadata": {
      "needs_background": "light"
     },
     "output_type": "display_data"
    }
   ],
   "source": [
    "import numpy as np\n",
    "import matplotlib.pyplot as plt\n",
    "\n",
    "\n",
    "x1 = np.linspace(0.0, 5.0)\n",
    "x2 = np.linspace(0.0, 2.0)\n",
    "\n",
    "y1 = np.cos(2 * np.pi * x1) * np.exp(-x1)\n",
    "y2 = np.cos(2 * np.pi * x2)\n",
    "\n",
    "plt.subplot(2, 1, 1)\n",
    "plt.plot(x1, y1, 'o-')\n",
    "plt.title('A tale of 2 subplots')\n",
    "plt.ylabel('Damped oscillation')\n",
    "\n",
    "plt.subplot(2, 1, 2)\n",
    "plt.plot(x2, y2, '.-')\n",
    "plt.xlabel('time (s)')\n",
    "plt.ylabel('Undamped')\n",
    "\n",
    "plt.show()"
   ]
  },
  {
   "cell_type": "markdown",
   "metadata": {},
   "source": [
    "## Loops\n",
    "\n",
    "- Use loops for repetitive tasks\n",
    "- Loops should be bounded within some range"
   ]
  },
  {
   "cell_type": "code",
   "execution_count": 67,
   "metadata": {},
   "outputs": [
    {
     "name": "stdout",
     "output_type": "stream",
     "text": [
      "0 hi!\n",
      "1 hi!\n",
      "2 hi!\n",
      "3 hi!\n"
     ]
    }
   ],
   "source": [
    "for i in range(0,4):\n",
    "    print(i, \"hi!\")"
   ]
  },
  {
   "cell_type": "code",
   "execution_count": 69,
   "metadata": {},
   "outputs": [
    {
     "name": "stdout",
     "output_type": "stream",
     "text": [
      "2\n",
      "4\n",
      "6\n",
      "8\n",
      "10\n",
      "evens: 5\n"
     ]
    }
   ],
   "source": [
    "numbers = [1, 2, 3, 4, 5, 6, 7, 8, 9, 10]\n",
    "\n",
    "# returns the number of even numbers in the given list\n",
    "def numEvens(numbers:list):\n",
    "    count = 0\n",
    "    for number in numbers:\n",
    "        if number % 2 == 0:\n",
    "            print(number)\n",
    "            count+=1\n",
    "    return count\n",
    "\n",
    "print(\"evens:\", numEvens(numbers))\n",
    "    "
   ]
  },
  {
   "cell_type": "markdown",
   "metadata": {},
   "source": [
    "## Challenge\n",
    "\n",
    "### Challenge 1\n",
    "\n",
    "What does the following program print out?\n",
    "\n",
    "```python\n",
    "x = \"Bath\"\n",
    "y = \"George\"\n",
    "g = -10\n",
    "\n",
    "if g > 20:\n",
    "    print(\"Joe\")\n",
    "else:\n",
    "    print(\"Farm\")\n",
    "if len(x) == 4:\n",
    "    print(\"Time\")\n",
    "```\n"
   ]
  },
  {
   "cell_type": "markdown",
   "metadata": {},
   "source": [
    "## Questions?"
   ]
  },
  {
   "cell_type": "markdown",
   "metadata": {},
   "source": [
    "## Feedback\n",
    "\n",
    "1. What was done well?\n",
    "2. What could have been done better?\n",
    "3. Would you attend another session? (Y/N)\n",
    "\n",
    "Email me, or submit feedback at https://nlouie.com/courses"
   ]
  },
  {
   "cell_type": "code",
   "execution_count": null,
   "metadata": {},
   "outputs": [],
   "source": []
  }
 ],
 "metadata": {
  "kernelspec": {
   "display_name": "Python 3",
   "language": "python",
   "name": "python3"
  },
  "language_info": {
   "codemirror_mode": {
    "name": "ipython",
    "version": 3
   },
   "file_extension": ".py",
   "mimetype": "text/x-python",
   "name": "python",
   "nbconvert_exporter": "python",
   "pygments_lexer": "ipython3",
   "version": "3.7.7"
  }
 },
 "nbformat": 4,
 "nbformat_minor": 1
}
