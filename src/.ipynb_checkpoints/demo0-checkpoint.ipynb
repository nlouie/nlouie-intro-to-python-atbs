{
 "cells": [
  {
   "cell_type": "markdown",
   "metadata": {
    "collapsed": true
   },
   "source": [
    "# Python Programming for Begginers Demo 0"
   ]
  },
  {
   "cell_type": "code",
   "execution_count": 1,
   "metadata": {},
   "outputs": [
    {
     "name": "stdout",
     "output_type": "stream",
     "text": [
      "Hello world!\n"
     ]
    }
   ],
   "source": [
    "print(\"Hello world!\")"
   ]
  },
  {
   "cell_type": "markdown",
   "metadata": {},
   "source": [
    "## Intro\n",
    "\n",
    "- Everyone can learn programming, it's never been easier.\n",
    "- Programming is creative\n",
    "    - Problem solving\n",
    "    - Many paths to the same place\n",
    "- Automate boring, repetitive tasks\n",
    "    - file naming\n",
    "    - spread sheets\n",
    "    - emails\n",
    "    - online form\n",
    "    -\n",
    "    \n",
    "    \n",
    "## What is a program? \n",
    "    - Set(s) of instructions. Do this then do this. If this happens, then this. \n",
    "    - A program can be made of many algorithms\n",
    "    \n",
    "\n",
    "###  Example 1 - Driving to the mall from home\n",
    "1. Get money & car keys\n",
    "2. Leave house\n",
    "3. Unlock the car\n",
    "4. Open the car door\n",
    "5. Get in the driver's side seat of the car\n",
    "6. Put the keys in the ignition\n",
    "7. Turn the ignition\n",
    "8. Step your right foot on the brake\n",
    "9. While foot is on brake, shift transmission\n",
    "10. Accidentally reverse into the garage\n",
    "\n",
    "\n",
    "### Example 2 - Looking for someone in a grocery store\n",
    "\n",
    "- psudeocode\n",
    "\n",
    "```java\n",
    "while (parentNotFound) {\n",
    "    foreach (aisle in aisles) {\n",
    "        if (parentIsInAisle) {\n",
    "            walkTowardsParent();\n",
    "        }\n",
    "    }\n",
    "}\n",
    "```\n",
    "\n",
    "### Example 3\n",
    "\n",
    "#### Example 3.1 (Standard Equations)\n",
    "\n",
    "$$ g = \\sum_{i=0}^{i=20}i*2$$\n",
    "\n",
    "\n",
    "#### Example 3.2 (Java)\n",
    "\n",
    "```java\n",
    "int g = 0;\n",
    "for (int i = 0; i <= 20; i++) {\n",
    "    g += i * 2;\n",
    "}\n",
    "```\n",
    "\n",
    "#### Example 3.3 (Python)\n",
    "    \n",
    "```python\n",
    "g = 0;\n",
    "for i in range(0, 21):\n",
    "    g += 1 * 2\n",
    "\n",
    "```\n",
    "\n",
    "## Programming Languages\n",
    "\n",
    "## Download Python 3.8\n",
    "\n",
    "- Which version?\n",
    "- Python 3.X is the newest version. 2.X is no longer supported.\n",
    "\n",
    "### Windows\n",
    "\n",
    "- Download it and install\n",
    "\n",
    "http://python.org/\n",
    "    \n",
    "### MacOS\n",
    "\n",
    "- Mac has python2 installed already\n",
    "\n",
    "From your terminal...\n",
    "\n",
    "```bash\n",
    "$ /bin/bash -c \"$(curl -fsSL https://raw.githubusercontent.com/Homebrew/install/master/install.sh)\"\n",
    "$ brew install python3\n",
    "```\n",
    "\n",
    "### Ubuntu\n",
    "\n",
    "```bash\n",
    "$ sudo apt-get install python3\n",
    "```\n",
    "\n",
    "### Why Python?\n",
    "- Easy to read\n",
    "- \"Batteries included\"\n",
    "- Dynamic typing, \n",
    "\n",
    "## Running Python\n",
    "\n",
    "- From your terminal (MacOS/Linux), or Command Prompt / Powershell (Windows)\n",
    "- This opens up the interactive terminal which evaluates inputs\n",
    "\n",
    "```bash\n",
    "$ python\n",
    ">>> \n",
    "``` \n",
    "\n",
    "Or run a python file\n",
    "\n",
    "```bash\n",
    "$ python file.py\n",
    "```\n",
    "\n",
    "### Programming environments\n",
    "- IDLE (installed with Python)\n",
    "- Text editors\n",
    "- Professional Integrated Development Environments (IDES), are helpful but are usually overkill, and obsure some important lessons about how code actually runs"
   ]
  },
  {
   "cell_type": "markdown",
   "metadata": {},
   "source": [
    "## Programming Basics\n",
    "\n",
    "### Statements, Printing, Comments\n",
    "\n",
    "- A statement is a line of code\n",
    "- Code is executed line-by-line\n",
    "- Printing will output to the screen / terminal\n",
    "- Comments are ignored by the program"
   ]
  },
  {
   "cell_type": "code",
   "execution_count": 17,
   "metadata": {},
   "outputs": [
    {
     "name": "stdout",
     "output_type": "stream",
     "text": [
      "I am a statement!\n",
      "I am also a statement!\n",
      "Player number: 1\n"
     ]
    },
    {
     "data": {
      "text/plain": [
       "'\\nI am a block comment \\n'"
      ]
     },
     "execution_count": 17,
     "metadata": {},
     "output_type": "execute_result"
    }
   ],
   "source": [
    "print(\"I am a statement!\")\n",
    "print('I am also a statement!') # I am a line comment\n",
    "print(\"Player number:\", 1)\n",
    "\n",
    "'''\n",
    "I am a block comment \n",
    "'''"
   ]
  },
  {
   "cell_type": "markdown",
   "metadata": {},
   "source": [
    "### Expressions & Evaulation\n",
    "\n",
    "- Like, math expressions."
   ]
  },
  {
   "cell_type": "code",
   "execution_count": 2,
   "metadata": {},
   "outputs": [
    {
     "data": {
      "text/plain": [
       "2"
      ]
     },
     "execution_count": 2,
     "metadata": {},
     "output_type": "execute_result"
    }
   ],
   "source": [
    "1 + 1"
   ]
  },
  {
   "cell_type": "code",
   "execution_count": 2,
   "metadata": {},
   "outputs": [
    {
     "data": {
      "text/plain": [
       "12"
      ]
     },
     "execution_count": 2,
     "metadata": {},
     "output_type": "execute_result"
    }
   ],
   "source": [
    "2 * 6"
   ]
  },
  {
   "cell_type": "code",
   "execution_count": 3,
   "metadata": {},
   "outputs": [
    {
     "data": {
      "text/plain": [
       "-5"
      ]
     },
     "execution_count": 3,
     "metadata": {},
     "output_type": "execute_result"
    }
   ],
   "source": [
    "5 - 10"
   ]
  },
  {
   "cell_type": "code",
   "execution_count": 7,
   "metadata": {},
   "outputs": [
    {
     "data": {
      "text/plain": [
       "7.0"
      ]
     },
     "execution_count": 7,
     "metadata": {},
     "output_type": "execute_result"
    }
   ],
   "source": [
    "(10 / 5) + (2.5 * 2)"
   ]
  },
  {
   "cell_type": "code",
   "execution_count": 10,
   "metadata": {},
   "outputs": [
    {
     "data": {
      "text/plain": [
       "100"
      ]
     },
     "execution_count": 10,
     "metadata": {},
     "output_type": "execute_result"
    }
   ],
   "source": [
    "10 ** 2"
   ]
  },
  {
   "cell_type": "code",
   "execution_count": 9,
   "metadata": {
    "scrolled": true
   },
   "outputs": [
    {
     "ename": "ZeroDivisionError",
     "evalue": "division by zero",
     "output_type": "error",
     "traceback": [
      "\u001b[0;31m---------------------------------------------------------------------------\u001b[0m",
      "\u001b[0;31mZeroDivisionError\u001b[0m                         Traceback (most recent call last)",
      "\u001b[0;32m<ipython-input-9-340e47a3b5ce>\u001b[0m in \u001b[0;36m<module>\u001b[0;34m\u001b[0m\n\u001b[0;32m----> 1\u001b[0;31m \u001b[0;36m8\u001b[0m \u001b[0;34m/\u001b[0m \u001b[0;36m0\u001b[0m\u001b[0;34m\u001b[0m\u001b[0;34m\u001b[0m\u001b[0m\n\u001b[0m",
      "\u001b[0;31mZeroDivisionError\u001b[0m: division by zero"
     ]
    }
   ],
   "source": [
    "8 / 0"
   ]
  },
  {
   "cell_type": "code",
   "execution_count": 18,
   "metadata": {},
   "outputs": [
    {
     "data": {
      "text/plain": [
       "True"
      ]
     },
     "execution_count": 18,
     "metadata": {},
     "output_type": "execute_result"
    }
   ],
   "source": [
    "1 == 1"
   ]
  },
  {
   "cell_type": "markdown",
   "metadata": {},
   "source": [
    "## Variables\n",
    "\n",
    "- Assign variable names"
   ]
  },
  {
   "cell_type": "code",
   "execution_count": 11,
   "metadata": {},
   "outputs": [
    {
     "data": {
      "text/plain": [
       "1"
      ]
     },
     "execution_count": 11,
     "metadata": {},
     "output_type": "execute_result"
    }
   ],
   "source": [
    "x = 0\n",
    "y = 1\n",
    "x + y"
   ]
  },
  {
   "cell_type": "code",
   "execution_count": 13,
   "metadata": {},
   "outputs": [],
   "source": [
    "first_name = \"Biggie\"\n",
    "last_name = \"Smalls\"\n",
    "full_name = first_name + \" \" + last_name\n",
    "print(full_name)"
   ]
  },
  {
   "cell_type": "raw",
   "metadata": {},
   "source": []
  },
  {
   "cell_type": "code",
   "execution_count": null,
   "metadata": {},
   "outputs": [],
   "source": []
  }
 ],
 "metadata": {
  "kernelspec": {
   "display_name": "Python 3",
   "language": "python",
   "name": "python3"
  },
  "language_info": {
   "codemirror_mode": {
    "name": "ipython",
    "version": 3
   },
   "file_extension": ".py",
   "mimetype": "text/x-python",
   "name": "python",
   "nbconvert_exporter": "python",
   "pygments_lexer": "ipython3",
   "version": "3.7.7"
  }
 },
 "nbformat": 4,
 "nbformat_minor": 1
}
