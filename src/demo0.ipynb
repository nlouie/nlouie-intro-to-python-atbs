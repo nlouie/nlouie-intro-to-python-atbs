{
 "cells": [
  {
   "cell_type": "markdown",
   "metadata": {},
   "source": [
    "# Python Programming for Beginners Demo 0 - Python Basics"
   ]
  },
  {
   "cell_type": "code",
   "execution_count": null,
   "metadata": {
    "pycharm": {
     "name": "#%%\n"
    }
   },
   "outputs": [],
   "source": [
    "print(\"Hello world!\")"
   ]
  },
  {
   "cell_type": "markdown",
   "metadata": {
    "pycharm": {
     "name": "#%% mdx\n"
    }
   },
   "source": [
    "## Intro\n",
    "\n",
    "- Everyone can learn programming, it's never been easier.\n",
    "- This course is for those who want to use Python, practically starting day 1\n",
    "- This course is for beginners to programming.\n",
    "- Many great online courses out there, free & paid\n",
    "    - [Coursera](https://www.coursera.org)\n",
    "    - Udemy\n",
    "    - [Pluralsight](https://pluralsight.com)\n",
    "    - [Learning Python the hard way](https://github.com/ubarredo/LearnPythonTheHardWay)\n",
    "- Programming is creative\n",
    "    - Problem solving\n",
    "    - Many paths to the same place\n",
    "    - You don't need to be good at math\n",
    "- Automate boring, repetitive tasks\n",
    "    - Moving and renaming thousands of files and sorting them into folders\n",
    "    - Filling out online forms—no typing required\n",
    "    - Downloading files or copying text from a website whenever it updates\n",
    "    - Having your computer text you custom notifications\n",
    "    - Updating or formatting Excel spreadsheets\n",
    "    - Checking your email and sending out prewritten responses\n",
    "- Computers are a tool, we spend so much time clicking, and typing, when we could be solving actual problems instead.\n",
    "- When unsure, use a search engine, someone has probably had the same error.\n",
    "- Tons of documentation online\n",
    "\n",
    "Other helpful resources:\n",
    "\n",
    "- [Stackoverflow](https://stackoverflow.com)\n",
    "- [Github](https://github.com)\n",
    "- [Reddit](https://reddit.com/r/learnprogramming/)\n",
    "    \n",
    "## What is programming? \n",
    "\n",
    "- “Do this; then do that.”\n",
    "- “If this condition is true, perform this action; otherwise, do that action.”\n",
    "- “Do this action exactly 27 times.”\n",
    "- “Keep doing that until this condition is true.”\n",
    "\n",
    "    \n",
    "## How does it work?\n",
    "- Computer code is an abstraction of the underlying hardware, a fixed set of logical operations on 32 or 64 bit values (think 0s and 1s) within the CPU. Computer code is converted to machine code, which the electronics can interface on. \n",
    "- Data is stored in the CPU, Memory (RAM), Hardisk, Network... each one being slower than the next\n",
    "- Data is shuffled around from these locations, ultimately to the CPU to do some kind of processsing.. (add one, divide 2, goto this program, etc)\n",
    "\n",
    "### Example 1 - Looking for someone in a grocery store\n",
    "\n",
    "\n",
    "------------------------\n",
    "\n",
    "```java\n",
    "while (parentNotFound) {\n",
    "    foreach (aisle in aisles) {\n",
    "        if (parentIsInAisle) {\n",
    "            walkTowardsParent();\n",
    "        }\n",
    "    }\n",
    "}\n",
    "```\n",
    "\n",
    "------------------------\n",
    "\n",
    "\n",
    "## Programming Languages\n",
    "\n",
    "## Download Python 3.8\n",
    "\n",
    "- Which version?\n",
    "- Python 3.X is the newest version. 2.X is no longer supported.\n",
    "\n",
    "### Windows\n",
    "\n",
    "- Download it and install\n",
    "\n",
    "http://python.org/\n",
    "    \n",
    "### MacOS\n",
    "\n",
    "- Mac has python2 installed already, but we are targeting **Python3**\n",
    "\n",
    "From your terminal...\n",
    "\n",
    "------------------------\n",
    "\n",
    "```bash\n",
    "$ /bin/bash -c \"$(curl -fsSL https://raw.githubusercontent.com/Homebrew/install/master/install.sh)\"\n",
    "$ brew install python3\n",
    "```\n",
    "\n",
    "------------------------\n",
    "\n",
    "### Ubuntu\n",
    "\n",
    "------------------------\n",
    "\n",
    "```bash\n",
    "$ sudo apt-get install python3\n",
    "```\n",
    "\n",
    "------------------------\n",
    "\n",
    "### What is Python?\n",
    "\n",
    "Python is a programming language (with syntax rules for writing what is considered valid Python code) and the Python interpreter software that reads source code (written in the Python language) and performs its instructions. You can download the Python interpreter for free at https://python.org/, and there are versions for Linux, macOS, and Windows.\n",
    "\n",
    "The name Python comes from the surreal British comedy group Monty Python, not from the snake. Python programmers are affectionately called Pythonistas, and both Monty Python and serpentine references usually pepper Python tutorials and documentation.\n",
    "\n",
    "I encourage you to type into the interactive shell, also called the REPL (Read-Evaluate-Print Loop), which lets you run (or execute) Python instructions one at a time and instantly shows you the results. \n",
    "\n",
    "Using the interactive shell is great for learning what basic Python instructions do, so give it a try as you follow along. You’ll remember the things you do much better than the things you only read.\n",
    "\n",
    "\n",
    "### Getting started with IDLE\n",
    "Open IDLE (should be installed with Python). An interactive shell will come up. Create a new file, and name it `test.py` You can use this python file to write python programs. Run it from the menu bar, or pressing `F5`\n",
    "\n",
    "[IDLE Documentation](https://docs.python.org/3/library/idle.html)\n",
    "\n",
    "- While the interactive shell is good for running Python instructions one at a time, to write entire Python programs, you’ll type the instructions into the file editor. The file editor is similar to text editors such as Notepad or TextMate, but it has some features specifically for entering source code.\n",
    "- The interactive shell window will always be the one with the `>>>` prompt.\n",
    "- The file editor window will not have the `>>>` prompt.\n",
    "\n",
    "### Running Python on the Command Line (Optional)\n",
    "\n",
    "- If you want to learn Python the hard way, using the command line is best way to learn.\n",
    "- The command line/terminal/shell accepts text commands, and will output some result\n",
    "- For Windows this is `Powershell.exe`, for MacOS, this is `Terminal.app`, for Linux, this is `/bin/bash`\n",
    "\n",
    "Download a text editor, like [Atom](https://atom.io)\n",
    "\n",
    "\n",
    "- From your terminal (MacOS/Linux), or Command Prompt / Powershell (Windows)\n",
    "- This opens up the interactive terminal which evaluates inputs\n",
    "\n",
    "------------------------\n",
    "```bash\n",
    "$ python\n",
    "Python 3.7.7 (default, Mar 10 2020, 15:43:33)\n",
    "[Clang 11.0.0 (clang-1100.0.33.17)] on darwin\n",
    "Type \"help\", \"copyright\", \"credits\" or \"license\" for more information.\n",
    ">>>\n",
    "``` \n",
    "------------------------\n",
    "\n",
    "Or run a python file\n",
    "\n",
    "------------------------\n",
    "\n",
    "```bash\n",
    "$ python file.py\n",
    "```\n",
    "\n",
    "------------------------\n",
    "\n",
    "[More info](https://learnpythonthehardway.org/python3/ex0.html)\n",
    "   \n",
    "   \n",
    "### Online Interactive Python\n",
    "\n",
    "Try Python online without downloading\n",
    "\n",
    "https://repl.it/"
   ]
  },
  {
   "cell_type": "markdown",
   "metadata": {},
   "source": [
    "## Programming Basics\n",
    "\n",
    "### Statements, Printing, Comments\n",
    "\n",
    "- A statement is a line of code\n",
    "- Code is executed line-by-line\n",
    "- Printing will output to the screen / terminal\n",
    "- Comments are ignored by the program\n",
    "\n",
    "- Python ignores comments, and you can use them to write notes or remind yourself what the code is trying to do. Any text for the rest of the line following a hash mark (#) is part of a comment.\n",
    "- Sometimes, programmers will put a # in front of a line of code to temporarily remove it while testing a program. This is called commenting out code, and it can be useful when you’re trying to figure out why a program isn’t working. You can remove the # later when you are ready to put the line back in.\n",
    "- Python also ignores the blank line after the comment. You can add as many blank lines to your program as you want. This can make your code easier to read, like paragraphs in a book."
   ]
  },
  {
   "cell_type": "code",
   "execution_count": null,
   "metadata": {
    "pycharm": {
     "name": "#%%\n"
    }
   },
   "outputs": [],
   "source": [
    "print('I am a statement!') # I am a line comment\n",
    "# print('I am also a statement!') \n",
    "print('Player number:', 1)\n",
    "\n",
    "'''\n",
    "I am a block comment \n",
    "'''"
   ]
  },
  {
   "cell_type": "markdown",
   "metadata": {},
   "source": [
    "### Operators and expressions\n",
    "\n",
    "In Python, 2 + 2 is called an expression, which is the most basic kind of programming instruction in the language. Expressions consist of **values** (such as 2) and **operators** (such as `+`), and they can always **evaluate** (that is, reduce) down to a single value. That means you can use expressions anywhere in Python code that you could also use a value.\n",
    "\n",
    "------------------------\n",
    "\n",
    "| Operator | Operation | Example | Evaluates to |\n",
    "|----------|-----------|---------|--------------|\n",
    "| **       | exponent  | 2 ** 3  | 8            |\n",
    "|%         | Modulus/remainder   | 22 % 8|   6 | \n",
    "| // | Integer division/floored quotient | 22 // 8 | 2\n",
    "| / |Division | 22 / 8 | 2.75 |\n",
    "| *  |Multiplication | 3 * 5 | 15 |\n",
    "| - | Subtraction | 5 - 2 | 3 | \n",
    "| + |  Addition | 2 + 2 | 4\n",
    "\n",
    "------------------------\n",
    "\n",
    "\n",
    "- The order of operations (also called precedence) of Python math operators is similar to that of mathematics.\n",
    "- use parentheses to override the usual precedence if you need to.\n",
    "- Whitespace in between the operators and values doesn’t matter for Python (except for the indentation at the beginning of the line), but a single space is convention"
   ]
  },
  {
   "cell_type": "code",
   "execution_count": null,
   "metadata": {
    "pycharm": {
     "name": "#%%\n"
    }
   },
   "outputs": [],
   "source": [
    "1 + 1"
   ]
  },
  {
   "cell_type": "code",
   "execution_count": null,
   "metadata": {
    "pycharm": {
     "name": "#%%\n"
    }
   },
   "outputs": [],
   "source": [
    "2 * 6"
   ]
  },
  {
   "cell_type": "code",
   "execution_count": null,
   "metadata": {
    "pycharm": {
     "name": "#%%\n"
    }
   },
   "outputs": [],
   "source": [
    "5 - 10"
   ]
  },
  {
   "cell_type": "code",
   "execution_count": null,
   "metadata": {
    "pycharm": {
     "name": "#%%\n"
    }
   },
   "outputs": [],
   "source": [
    "(5 - 1) * ((7 + 1) / (3 - 1)) # PEMDAS"
   ]
  },
  {
   "cell_type": "code",
   "execution_count": null,
   "metadata": {
    "pycharm": {
     "name": "#%%\n"
    }
   },
   "outputs": [],
   "source": [
    "23 / 7"
   ]
  },
  {
   "cell_type": "code",
   "execution_count": null,
   "metadata": {
    "pycharm": {
     "name": "#%%\n"
    }
   },
   "outputs": [],
   "source": [
    "23 // 7"
   ]
  },
  {
   "cell_type": "markdown",
   "metadata": {},
   "source": [
    "### Modulus\n",
    "\n",
    "- Another way to say it is, \"X divided by Y with J remaining.\" For example, \"100 divided by 16 with 4 remaining.\" The result of % is the J part, or the remaining part."
   ]
  },
  {
   "cell_type": "code",
   "execution_count": null,
   "metadata": {
    "pycharm": {
     "name": "#%%\n"
    }
   },
   "outputs": [],
   "source": [
    "23 % 7"
   ]
  },
  {
   "cell_type": "code",
   "execution_count": null,
   "metadata": {
    "pycharm": {
     "name": "#%%\n"
    }
   },
   "outputs": [],
   "source": [
    "10 ** 2"
   ]
  },
  {
   "cell_type": "markdown",
   "metadata": {},
   "source": [
    "### Error Messages\n",
    "- Programs will crash if they contain code the computer can’t understand, which will cause Python to show an error message. An error message won’t break your computer, though, so don’t be afraid to make mistakes. A crash just means the program stopped running unexpectedly.\n",
    "\n",
    "    - Divide By Zero\n",
    "    - Type Errors\n",
    "    - Out of bounds\n",
    "    - Out of memory\n",
    "    - User defined\n",
    "- Some error messages are helpful than others. It helps to use a search engine.\n",
    "\n",
    "- You can always test to see whether an instruction works by entering it into the interactive shell. Don’t worry about breaking the computer: the worst that could happen is that Python responds with an error message. Professional software developers get error messages while writing code all the time."
   ]
  },
  {
   "cell_type": "code",
   "execution_count": null,
   "metadata": {
    "pycharm": {
     "name": "#%%\n"
    }
   },
   "outputs": [],
   "source": [
    "8 / 0"
   ]
  },
  {
   "cell_type": "markdown",
   "metadata": {},
   "source": [
    "## The Integer, Floating-Point, and String Data Types\n",
    "\n",
    "Remember that expressions are just values combined with operators, and they always evaluate down to a single value. A data type is a category for values, and every value belongs to exactly one data type.\n",
    "\n",
    "| Data type | Example |\n",
    "|----------|----------|\n",
    "| String  | \"hello\", 'hi', 'a', '64 cats' |\n",
    "| Integer |  -2, -1, 0, 1, 2, 3, 4, 5 |\n",
    "| Float   | -1.25, -1.0, -0.5, 0.0, 0.5, 1.0, 1.25 |\n"
   ]
  },
  {
   "cell_type": "code",
   "execution_count": null,
   "metadata": {
    "pycharm": {
     "name": "#%%\n"
    }
   },
   "outputs": [],
   "source": [
    "# strings\n",
    "print('hello world')"
   ]
  },
  {
   "cell_type": "markdown",
   "metadata": {},
   "source": [
    "- strings can be surrounded by `'` or `\"`\n",
    "- `''` or `\"\"` is considered an \"empty string\"\n",
    "- forgetting to close a string leads to an error"
   ]
  },
  {
   "cell_type": "markdown",
   "metadata": {},
   "source": [
    "## String Concatenation and Replication\n",
    "\n",
    "The meaning of an operator may change based on the data types of the values next to it. \n",
    "For example, `+` is the addition operator when it operates on two integers or floating-point values. \n",
    "However, when `+` is used on two string values, it joins the strings as the string *concatenation* operator."
   ]
  },
  {
   "cell_type": "code",
   "execution_count": null,
   "metadata": {
    "pycharm": {
     "name": "#%%\n"
    }
   },
   "outputs": [],
   "source": [
    "'alice' + 'bob'"
   ]
  },
  {
   "cell_type": "markdown",
   "metadata": {},
   "source": [
    "- The expression evaluates down to a single, new string value that combines the text of the two strings. However, if you try to use the + operator on a string and an integer value, Python will not know how to handle this, and it will display an error message.\n",
    "- The error message can only concatenate str (not \"int\") to str means that Python thought you were trying to concatenate an integer to the string 'Alice'. Your code will have to explicitly convert the integer to a string because Python cannot do this automatically."
   ]
  },
  {
   "cell_type": "code",
   "execution_count": null,
   "metadata": {
    "pycharm": {
     "name": "#%%\n"
    }
   },
   "outputs": [],
   "source": [
    "# Mixing data types can crash your program or cause unexpected behavior\n",
    "'alice' + 2"
   ]
  },
  {
   "cell_type": "markdown",
   "metadata": {},
   "source": [
    "- The * operator multiplies two integer or floating-point values. But when the * operator is used on one string value and one integer value, it becomes the string replication operator."
   ]
  },
  {
   "cell_type": "code",
   "execution_count": null,
   "metadata": {
    "pycharm": {
     "name": "#%%\n"
    }
   },
   "outputs": [],
   "source": [
    "'Alice' * 5"
   ]
  },
  {
   "cell_type": "code",
   "execution_count": null,
   "metadata": {
    "pycharm": {
     "name": "#%%\n"
    }
   },
   "outputs": [],
   "source": [
    "'Alice' * 5.0"
   ]
  },
  {
   "cell_type": "markdown",
   "metadata": {},
   "source": [
    "## Storing Values in Variables\n",
    "\n",
    "- A **variable** is like a box in the computer’s memory where you can store a single value. If you want to use the result of an evaluated expression later in your program, you can save it inside a variable.\n",
    "- You’ll store values in variables with an **assignment statement**. An assignment statement consists of a variable name, an equal sign (called the **assignment operator**), and the value to be stored. If you enter the assignment statement spam = 42, then a variable named spam will have the integer value 42 stored in it."
   ]
  },
  {
   "cell_type": "code",
   "execution_count": null,
   "metadata": {
    "pycharm": {
     "name": "#%%\n"
    }
   },
   "outputs": [],
   "source": [
    "spam = 42\n",
    "spam"
   ]
  },
  {
   "cell_type": "code",
   "execution_count": null,
   "metadata": {
    "pycharm": {
     "name": "#%%\n"
    }
   },
   "outputs": [],
   "source": [
    "x = 0\n",
    "y = 1\n",
    "x + y"
   ]
  },
  {
   "cell_type": "markdown",
   "metadata": {},
   "source": [
    "- A variable is initialized (or created) the first time a value is stored in it. After that, you can use it in expressions with other variables and values. When a variable is assigned a new value, the old value is forgotten, which is why printing `full_name` again printed `\"Ghostface Killa\"`. This is called overwriting the variable."
   ]
  },
  {
   "cell_type": "code",
   "execution_count": null,
   "metadata": {
    "pycharm": {
     "name": "#%%\n"
    }
   },
   "outputs": [],
   "source": [
    "first_name = \"Biggie\"\n",
    "last_name = \"Smalls\"\n",
    "full_name = first_name + \" \" + last_name # string concatenation\n",
    "print(full_name)"
   ]
  },
  {
   "cell_type": "code",
   "execution_count": null,
   "metadata": {
    "pycharm": {
     "name": "#%%\n"
    }
   },
   "outputs": [],
   "source": [
    "print(full_name)"
   ]
  },
  {
   "cell_type": "code",
   "execution_count": null,
   "metadata": {
    "pycharm": {
     "name": "#%%\n"
    }
   },
   "outputs": [],
   "source": [
    "full_name = \"Ghostface Killa\"\n",
    "print(full_name)"
   ]
  },
  {
   "cell_type": "markdown",
   "metadata": {},
   "source": [
    "### Variable Names\n",
    "\n",
    "- A good variable name describes the data it contains. Currently we've been using generic names for examples\n",
    "- a descriptive name will help make your code more readable\n",
    "\n",
    "Though you can name your variables almost anything, Python does have some naming restrictions. You can name a variable anything as long as it obeys the following three rules:\n",
    "\n",
    "- It can be only one word with no spaces.\n",
    "- It can use only letters, numbers, and the underscore (_) character.\n",
    "- It can’t begin with a number.\n",
    "\n",
    "------------------------\n",
    "\n",
    "| Valid variable names | Invalid variable names |\n",
    "|----------------------|------------------------|\n",
    "| current_balance | current-balance (hyphens are not allowed) |\n",
    "| currentBalance  | current balance (spaces are not allowed) |\n",
    "| account4 |  4account (can’t begin with a number) |\n",
    "| _42 |  42 (can’t begin with a number) |\n",
    "| TOTAL_SUM | TOTAL_\\\\$UM (special characters like $ are not allowed)| \n",
    "| hello |  'hello' (special characters like ' are not allowed) |\n",
    "\n",
    "------------------------\n",
    "\n",
    "\n",
    "- Variable names are case-sensitive, so `first_name`, `First_name`, `first_nAme` are all different variables."
   ]
  },
  {
   "cell_type": "markdown",
   "metadata": {},
   "source": [
    "## Creating your first program\n",
    "\n",
    "- Open up IDLE, and create a new python file, or use your favorite text editor.\n",
    "- Type in the program below, and save the file, `demo0.py`.\n",
    "\n",
    "------------------------\n",
    "\n",
    "```python\n",
    "# This program says hello and asks for my name.\n",
    "\n",
    "print('Hello, world!')\n",
    "print('What is your name?')    # ask for their name\n",
    "\n",
    "my_name = input()\n",
    "print('It is good to meet you, ' + my_name)\n",
    "\n",
    "print('The length of your name is:')\n",
    "print(len(my_name))\n",
    "\n",
    "print('What is your age?')    # ask for their age\n",
    "my_age = input()\n",
    "print('You will be ' + str(int(my_age) + 1) + ' in a year.')\n",
    "```\n",
    "\n",
    "------------------------\n",
    "\n",
    "- Run your program IDLE by pressing `F5`, or clicking \"Run\" from the menu.\n",
    "\n",
    "### Optional example, running from command line\n",
    "- If you are running from the command line, go the same folder as your python file, then run with the `python` command. You may need to run with `python3` if you have multiple versions installed on your machine\n",
    "\n",
    "------------------------\n",
    "\n",
    "```bash\n",
    "# find where you saved your python file..such as your Desktop\n",
    "$ cd ~/Desktop\n",
    "$ python demo0.py\n",
    "```\n",
    "------------------------\n",
    "\n",
    "## Dissecting Your Program\n",
    "\n",
    "### The `print()` Function\n",
    "\n",
    "- The `print()` function displays the string value inside its parentheses on the screen."
   ]
  },
  {
   "cell_type": "code",
   "execution_count": null,
   "metadata": {
    "pycharm": {
     "name": "#%%\n"
    }
   },
   "outputs": [],
   "source": [
    "print('Hello, world!')"
   ]
  },
  {
   "cell_type": "markdown",
   "metadata": {},
   "source": [
    "- The line `print('Hello, world!')` means “Print out the text in the string 'Hello, world!'.” \n",
    "- When Python executes this line, you say that Python is **calling** the `print()` function and the string value is being passed to the function. A value that is **passed** to a function call is an **argument**. \n",
    "- Notice that the quotes are not printed to the screen. They just mark where the string begins and ends; they are not part of the string value."
   ]
  },
  {
   "cell_type": "markdown",
   "metadata": {},
   "source": [
    "### The `input()` Function\n",
    "- The `input()` function waits for the user to type some text on the keyboard and press ENTER.\n",
    "- This function call evaluates to a string equal to the user’s text, and the line of code assigns the myName variable to this string value.\n",
    "- You can think of the input() function call as an expression that evaluates to whatever string the user typed in. - If the user entered `'Al'`, then the expression would evaluate to `my_name = 'Al'`.\n",
    "- If you call `input()` and see an error message, like NameError: name 'Al' is not defined, the problem is that you’re running the code with Python 2 instead of Python 3."
   ]
  },
  {
   "cell_type": "code",
   "execution_count": null,
   "metadata": {
    "pycharm": {
     "name": "#%%\n"
    }
   },
   "outputs": [],
   "source": [
    "my_name = input()\n",
    "print('It is good to meet you ' + my_name)"
   ]
  },
  {
   "cell_type": "markdown",
   "metadata": {},
   "source": [
    "Remember that expressions can always evaluate to a single value. If `'Al'` is the value stored in `my_name`, then this expression evaluates to `'It is good to meet you, Al'`. This single string value is then passed to `print()`, which prints it on the screen."
   ]
  },
  {
   "cell_type": "markdown",
   "metadata": {},
   "source": [
    "### The `len()` Function\n",
    "You can pass the len() function a string value (or a variable containing a string), and the function evaluates to the integer value of the number of characters in that string."
   ]
  },
  {
   "cell_type": "code",
   "execution_count": null,
   "metadata": {
    "pycharm": {
     "name": "#%%\n"
    }
   },
   "outputs": [],
   "source": [
    "len(\"hello\")"
   ]
  },
  {
   "cell_type": "code",
   "execution_count": null,
   "metadata": {
    "pycharm": {
     "name": "#%%\n"
    }
   },
   "outputs": [],
   "source": [
    "len(\"The quick brown fox jumped over the lazy dog\")"
   ]
  },
  {
   "cell_type": "code",
   "execution_count": null,
   "metadata": {
    "pycharm": {
     "name": "#%%\n"
    }
   },
   "outputs": [],
   "source": [
    "len('')"
   ]
  },
  {
   "cell_type": "code",
   "execution_count": null,
   "metadata": {
    "pycharm": {
     "name": "#%%\n"
    }
   },
   "outputs": [],
   "source": [
    "len(\"\")"
   ]
  },
  {
   "cell_type": "markdown",
   "metadata": {},
   "source": [
    "- Just like those examples, `len(my_name)` evaluates to an integer. It is then passed to `print()` to be displayed on the screen. \n",
    "- The `print()` function allows you to pass it either integer values or string values, but notice the error that shows up when you type the following into the interactive shell:"
   ]
  },
  {
   "cell_type": "code",
   "execution_count": null,
   "metadata": {
    "pycharm": {
     "name": "#%%\n"
    }
   },
   "outputs": [],
   "source": [
    "print('I am ' + 29 + ' years old.')"
   ]
  },
  {
   "cell_type": "markdown",
   "metadata": {},
   "source": [
    "The print() function isn’t causing that error, but rather it’s the expression you tried to pass to print(). You get the same error message if you type the expression into the interactive shell on its own."
   ]
  },
  {
   "cell_type": "code",
   "execution_count": null,
   "metadata": {
    "pycharm": {
     "name": "#%%\n"
    }
   },
   "outputs": [],
   "source": [
    "'I am ' + 29 + ' years old.'"
   ]
  },
  {
   "cell_type": "markdown",
   "metadata": {},
   "source": [
    "- Python gives an error because the `+` operator can only be used to add two integers together or concatenate two strings. \n",
    "- You can’t add an integer to a string, because this is ungrammatical in Python. \n",
    "- You can fix this by using a string version of the integer instead, as explained in the next section."
   ]
  },
  {
   "cell_type": "markdown",
   "metadata": {},
   "source": [
    "## The `str()`, `int()`, and `float()` Functions\n",
    "\n",
    "- If you want to concatenate an integer such as `29` with a string to pass to `print()`, you’ll need to get the value `'29'`, which is the string form of `29`. The `str()` function can be passed an integer value and will evaluate to a string value version of the integer, as follows:"
   ]
  },
  {
   "cell_type": "code",
   "execution_count": null,
   "metadata": {
    "pycharm": {
     "name": "#%%\n"
    }
   },
   "outputs": [],
   "source": [
    "str(29)"
   ]
  },
  {
   "cell_type": "code",
   "execution_count": null,
   "metadata": {
    "pycharm": {
     "name": "#%%\n"
    }
   },
   "outputs": [],
   "source": [
    "print('I am ' + str(29) + ' years old.')"
   ]
  },
  {
   "cell_type": "markdown",
   "metadata": {},
   "source": [
    "- Because `str(29)` evaluates to `'29'`, the expression `'I am ' + str(29) + ' years old.'` evaluates to `'I am ' + '29' + ' years old.'`, which in turn evaluates to `'I am 29 years old.'`. This is the value that is passed to the `print()` function.\n",
    "- The `str()`, `int()`, and `float()` functions will evaluate to the string, integer, and floating-point forms of the value you pass, respectively. \n",
    "- Try converting some values in the interactive shell with these functions and watch what happens."
   ]
  },
  {
   "cell_type": "code",
   "execution_count": null,
   "metadata": {
    "pycharm": {
     "name": "#%%\n"
    }
   },
   "outputs": [],
   "source": [
    "str(0)"
   ]
  },
  {
   "cell_type": "code",
   "execution_count": null,
   "metadata": {
    "pycharm": {
     "name": "#%%\n"
    }
   },
   "outputs": [],
   "source": [
    "str(-3.14)"
   ]
  },
  {
   "cell_type": "code",
   "execution_count": null,
   "metadata": {
    "pycharm": {
     "name": "#%%\n"
    }
   },
   "outputs": [],
   "source": [
    "int('42')"
   ]
  },
  {
   "cell_type": "code",
   "execution_count": null,
   "metadata": {
    "pycharm": {
     "name": "#%%\n"
    }
   },
   "outputs": [],
   "source": [
    "int('-99')"
   ]
  },
  {
   "cell_type": "code",
   "execution_count": null,
   "metadata": {
    "pycharm": {
     "name": "#%%\n"
    }
   },
   "outputs": [],
   "source": [
    "int(1.25)"
   ]
  },
  {
   "cell_type": "code",
   "execution_count": null,
   "metadata": {
    "pycharm": {
     "name": "#%%\n"
    }
   },
   "outputs": [],
   "source": [
    "float(3.14)"
   ]
  },
  {
   "cell_type": "code",
   "execution_count": null,
   "metadata": {
    "pycharm": {
     "name": "#%%\n"
    }
   },
   "outputs": [],
   "source": [
    "float(10)"
   ]
  },
  {
   "cell_type": "markdown",
   "metadata": {},
   "source": [
    "- The previous examples call the `str()`, `int()`, and `float()` functions and pass them values of the other data types to obtain a string, integer, or floating-point form of those values.\n",
    "- The `str()` function is handy when you have an integer or float that you want to concatenate to a string. \n",
    "- The `int()` function is also helpful if you have a number as a string value that you want to use in some mathematics.\n",
    "- For example, the `input()` function always returns a string, even if the user enters a number. Enter `spam = input()` into the interactive shell and enter 101 when it waits for your text."
   ]
  },
  {
   "cell_type": "code",
   "execution_count": null,
   "metadata": {
    "pycharm": {
     "name": "#%%\n"
    }
   },
   "outputs": [],
   "source": [
    "spam = input()\n",
    "spam"
   ]
  },
  {
   "cell_type": "markdown",
   "metadata": {},
   "source": [
    "The value stored inside spam isn’t the integer 101 but the string '101'. If you want to do math using the value in spam, use the int() function to get the integer form of spam and then store this as the new value in spam."
   ]
  },
  {
   "cell_type": "code",
   "execution_count": null,
   "metadata": {
    "pycharm": {
     "name": "#%%\n"
    }
   },
   "outputs": [],
   "source": [
    "spam = int(spam)\n",
    "spam"
   ]
  },
  {
   "cell_type": "markdown",
   "metadata": {},
   "source": [
    "Now you should be able to treat the spam variable as an integer instead of a string."
   ]
  },
  {
   "cell_type": "code",
   "execution_count": null,
   "metadata": {
    "pycharm": {
     "name": "#%%\n"
    }
   },
   "outputs": [],
   "source": [
    "spam"
   ]
  },
  {
   "cell_type": "markdown",
   "metadata": {},
   "source": [
    "Note that if you pass a value to int() that it cannot evaluate as an integer, Python will display an error message."
   ]
  },
  {
   "cell_type": "code",
   "execution_count": null,
   "metadata": {
    "pycharm": {
     "name": "#%%\n"
    }
   },
   "outputs": [],
   "source": [
    "int('99.99')"
   ]
  },
  {
   "cell_type": "code",
   "execution_count": null,
   "metadata": {
    "pycharm": {
     "name": "#%%\n"
    }
   },
   "outputs": [],
   "source": [
    "int('twelve')"
   ]
  },
  {
   "cell_type": "markdown",
   "metadata": {},
   "source": [
    "The `int()` function is also useful if you need to round a floating-point number down."
   ]
  },
  {
   "cell_type": "code",
   "execution_count": null,
   "metadata": {
    "pycharm": {
     "name": "#%%\n"
    }
   },
   "outputs": [],
   "source": [
    "int(7.7)"
   ]
  },
  {
   "cell_type": "code",
   "execution_count": null,
   "metadata": {
    "pycharm": {
     "name": "#%%\n"
    }
   },
   "outputs": [],
   "source": [
    "int(7.7) + 1"
   ]
  },
  {
   "cell_type": "markdown",
   "metadata": {},
   "source": [
    "### TEXT AND NUMBER EQUIVALENCE\n",
    "\n",
    "- Although the string value of a number is considered a completely different value from the integer or floating-point version, an integer can be equal to a floating point.\n",
    "\n",
    "- We use `==` to denote **comparison**\n",
    "- Comparisons always returns a type `boolean` which can be either `True` (1) or `False` (0)"
   ]
  },
  {
   "cell_type": "code",
   "execution_count": null,
   "metadata": {},
   "outputs": [],
   "source": [
    "42 == '42'"
   ]
  },
  {
   "cell_type": "code",
   "execution_count": 17,
   "metadata": {},
   "outputs": [
    {
     "data": {
      "text/plain": [
       "True"
      ]
     },
     "execution_count": 17,
     "metadata": {},
     "output_type": "execute_result"
    }
   ],
   "source": [
    "42 == 42.0"
   ]
  },
  {
   "cell_type": "code",
   "execution_count": 18,
   "metadata": {},
   "outputs": [
    {
     "data": {
      "text/plain": [
       "True"
      ]
     },
     "execution_count": 18,
     "metadata": {},
     "output_type": "execute_result"
    }
   ],
   "source": [
    "42.0 == 0042.000"
   ]
  },
  {
   "cell_type": "markdown",
   "metadata": {},
   "source": [
    "## Summary\n",
    "\n",
    "You can compute expressions with a calculator or enter string concatenations with a word processor. You can even do string replication easily by copying and pasting text. But expressions, and their component values—operators, variables, and function calls—are the basic building blocks that make programs. Once you know how to handle these elements, you will be able to instruct Python to operate on large amounts of data for you.\n",
    "\n",
    "It is good to remember the different types of operators (+, -, *, /, //, %, and ** for math operations, and + and * for string operations) and the three data types (integers, floating-point numbers, and strings) introduced in this chapter.\n",
    "\n",
    "I introduced a few different functions as well. The print() and input() functions handle simple text output (to the screen) and input (from the keyboard). The len() function takes a string and evaluates to an int of the number of characters in the string. The str(), int(), and float() functions will evaluate to the string, integer, or floating-point number form of the value they are passed.\n",
    "\n",
    "In the next chapter, you’ll learn how to tell Python to make intelligent decisions about what code to run, what code to skip, and what code to repeat based on the values it has. This is known as flow control, and it allows you to write programs that make intelligent decisions."
   ]
  },
  {
   "cell_type": "markdown",
   "metadata": {},
   "source": [
    "## Questions?\n",
    "\n",
    "## Feedback?\n",
    "\n",
    "## Practice Questions\n",
    "\n",
    "1. Which of the following are operators, and which are values?\n",
    "\n",
    "-------------------\n",
    "\n",
    "```\n",
    "*\n",
    "'hello'\n",
    "-88.8\n",
    "-\n",
    "/\n",
    "+\n",
    "5\n",
    "```\n",
    "-------------------------\n",
    "\n",
    "\n",
    "2. Which of the following is a variable, and which is a string?\n",
    "-------------------------\n",
    "\n",
    "```\n",
    "spam\n",
    "'spam'\n",
    "```\n",
    "-------------------------\n",
    "\n",
    "3. Name three data types.\n",
    "\n",
    "4. What is an expression made up of? What do all expressions do?\n",
    "\n",
    "5. This module introduced assignment statements, like `spam = 10`. What is the difference between an expression and a statement?\n",
    "\n",
    "6. What does the variable `bacon` contain after the following code runs?\n",
    "\n",
    "-------------------------\n",
    "```\n",
    "bacon = 20\n",
    "bacon + 1\n",
    "```\n",
    "-------------------------\n",
    "\n",
    "7. What should the following two expressions evaluate to?\n",
    "\n",
    "-------------------------\n",
    "```\n",
    "'spam' + 'spamspam'\n",
    "'spam' * 3\n",
    "```\n",
    "-------------------------\n",
    "\n",
    "8. Why is `eggs` a valid variable name while `100` is invalid?\n",
    "\n",
    "9. What three functions can be used to get the integer, floating-point number, or string version of a value?\n",
    "\n",
    "10. Why does this expression cause an error? How can you fix it?\n",
    "\n",
    "-------------------------\n",
    "\n",
    "```\n",
    "'I ate ' + 99 + ' burritos.'\n",
    "```\n",
    "-------------------------\n",
    "\n",
    "Extra credit: Search online for the Python documentation for the len() function. It will be on a web page titled “Built-in Functions.” Skim the list of other functions Python has, look up what the round() function does, and experiment with it in the interactive shell.\n",
    "\n",
    "\n",
    "## Credits\n",
    "\n",
    "https://automatetheboringstuff.com/\n"
   ]
  }
 ],
 "metadata": {
  "kernelspec": {
   "display_name": "Python 3",
   "language": "python",
   "name": "python3"
  },
  "language_info": {
   "codemirror_mode": {
    "name": "ipython",
    "version": 3
   },
   "file_extension": ".py",
   "mimetype": "text/x-python",
   "name": "python",
   "nbconvert_exporter": "python",
   "pygments_lexer": "ipython3",
   "version": "3.7.7"
  }
 },
 "nbformat": 4,
 "nbformat_minor": 1
}